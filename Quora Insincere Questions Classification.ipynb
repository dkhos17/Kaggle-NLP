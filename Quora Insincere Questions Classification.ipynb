{
 "cells": [
  {
   "cell_type": "code",
   "execution_count": 1,
   "metadata": {
    "_cell_guid": "b1076dfc-b9ad-4769-8c92-a6c4dae69d19",
    "_uuid": "8f2839f25d086af736a60e9eeb907d3b93b6e0e5",
    "execution": {
     "iopub.execute_input": "2020-12-01T16:01:51.103390Z",
     "iopub.status.busy": "2020-12-01T16:01:51.102464Z",
     "iopub.status.idle": "2020-12-01T16:01:51.108458Z",
     "shell.execute_reply": "2020-12-01T16:01:51.107641Z"
    },
    "papermill": {
     "duration": 0.046842,
     "end_time": "2020-12-01T16:01:51.108608",
     "exception": false,
     "start_time": "2020-12-01T16:01:51.061766",
     "status": "completed"
    },
    "tags": []
   },
   "outputs": [
    {
     "name": "stdout",
     "output_type": "stream",
     "text": [
      "/kaggle/input/quora-insincere-questions-classification/train.csv\n",
      "/kaggle/input/quora-insincere-questions-classification/embeddings.zip\n",
      "/kaggle/input/quora-insincere-questions-classification/test.csv\n",
      "/kaggle/input/quora-insincere-questions-classification/sample_submission.csv\n"
     ]
    }
   ],
   "source": [
    "# This Python 3 environment comes with many helpful analytics libraries installed\n",
    "# It is defined by the kaggle/python Docker image: https://github.com/kaggle/docker-python\n",
    "# For example, here's several helpful packages to load\n",
    "\n",
    "import numpy as np # linear algebra\n",
    "import pandas as pd # data processing, CSV file I/O (e.g. pd.read_csv)\n",
    "\n",
    "# Input data files are available in the read-only \"../input/\" directory\n",
    "# For example, running this (by clicking run or pressing Shift+Enter) will list all files under the input directory\n",
    "\n",
    "import os\n",
    "for dirname, _, filenames in os.walk('/kaggle/input'):\n",
    "    for filename in filenames:\n",
    "        print(os.path.join(dirname, filename))\n",
    "\n",
    "# You can write up to 20GB to the current directory (/kaggle/working/) that gets preserved as output when you create a version using \"Save & Run All\" \n",
    "# You can also write temporary files to /kaggle/temp/, but they won't be saved outside of the current session\n",
    "\n"
   ]
  },
  {
   "cell_type": "code",
   "execution_count": 2,
   "metadata": {
    "execution": {
     "iopub.execute_input": "2020-12-01T16:01:51.180898Z",
     "iopub.status.busy": "2020-12-01T16:01:51.180291Z",
     "iopub.status.idle": "2020-12-01T16:01:51.189274Z",
     "shell.execute_reply": "2020-12-01T16:01:51.188553Z"
    },
    "papermill": {
     "duration": 0.045768,
     "end_time": "2020-12-01T16:01:51.189395",
     "exception": false,
     "start_time": "2020-12-01T16:01:51.143627",
     "status": "completed"
    },
    "tags": []
   },
   "outputs": [
    {
     "name": "stdout",
     "output_type": "stream",
     "text": [
      "['GoogleNews-vectors-negative300/', 'glove.840B.300d/', 'paragram_300_sl999/', 'wiki-news-300d-1M/', 'glove.840B.300d/glove.840B.300d.txt', 'GoogleNews-vectors-negative300/GoogleNews-vectors-negative300.bin', 'wiki-news-300d-1M/wiki-news-300d-1M.vec', 'paragram_300_sl999/README.txt', 'paragram_300_sl999/paragram_300_sl999.txt']\n"
     ]
    }
   ],
   "source": [
    "from zipfile import ZipFile \n",
    "  \n",
    "with ZipFile('/kaggle/input/quora-insincere-questions-classification/embeddings.zip', 'r') as embd_zip: \n",
    "    print(embd_zip.namelist())\n"
   ]
  },
  {
   "cell_type": "markdown",
   "metadata": {
    "papermill": {
     "duration": 0.03297,
     "end_time": "2020-12-01T16:01:51.256351",
     "exception": false,
     "start_time": "2020-12-01T16:01:51.223381",
     "status": "completed"
    },
    "tags": []
   },
   "source": [
    "**START WORKING ON DATA**"
   ]
  },
  {
   "cell_type": "code",
   "execution_count": 3,
   "metadata": {
    "execution": {
     "iopub.execute_input": "2020-12-01T16:01:51.327892Z",
     "iopub.status.busy": "2020-12-01T16:01:51.327132Z",
     "iopub.status.idle": "2020-12-01T16:01:51.330163Z",
     "shell.execute_reply": "2020-12-01T16:01:51.329651Z"
    },
    "papermill": {
     "duration": 0.040776,
     "end_time": "2020-12-01T16:01:51.330262",
     "exception": false,
     "start_time": "2020-12-01T16:01:51.289486",
     "status": "completed"
    },
    "tags": []
   },
   "outputs": [],
   "source": [
    "def DEBUG_DICTIONARY(dct, limit=10):\n",
    "    for i, key in enumerate(dct.keys()):\n",
    "        if i > limit: break\n",
    "        print(key, dct[key])"
   ]
  },
  {
   "cell_type": "code",
   "execution_count": 4,
   "metadata": {
    "execution": {
     "iopub.execute_input": "2020-12-01T16:01:51.403263Z",
     "iopub.status.busy": "2020-12-01T16:01:51.402642Z",
     "iopub.status.idle": "2020-12-01T16:01:55.424528Z",
     "shell.execute_reply": "2020-12-01T16:01:55.425299Z"
    },
    "papermill": {
     "duration": 4.061901,
     "end_time": "2020-12-01T16:01:55.425521",
     "exception": false,
     "start_time": "2020-12-01T16:01:51.363620",
     "status": "completed"
    },
    "tags": []
   },
   "outputs": [],
   "source": [
    "from sklearn.model_selection import train_test_split\n",
    "\n",
    "# configure train and validation data\n",
    "train_data, val_data = train_test_split(pd.read_csv('/kaggle/input/quora-insincere-questions-classification/train.csv'), test_size=0.2, random_state=42)\n",
    "sentences, targets = train_data['question_text'], train_data['target']\n",
    "val_sentences, val_targets = val_data['question_text'], val_data['target']"
   ]
  },
  {
   "cell_type": "code",
   "execution_count": 5,
   "metadata": {
    "execution": {
     "iopub.execute_input": "2020-12-01T16:01:55.551276Z",
     "iopub.status.busy": "2020-12-01T16:01:55.550406Z",
     "iopub.status.idle": "2020-12-01T16:01:55.562509Z",
     "shell.execute_reply": "2020-12-01T16:01:55.563227Z"
    },
    "papermill": {
     "duration": 0.068633,
     "end_time": "2020-12-01T16:01:55.563391",
     "exception": false,
     "start_time": "2020-12-01T16:01:55.494758",
     "status": "completed"
    },
    "tags": []
   },
   "outputs": [
    {
     "data": {
      "text/html": [
       "<div>\n",
       "<style scoped>\n",
       "    .dataframe tbody tr th:only-of-type {\n",
       "        vertical-align: middle;\n",
       "    }\n",
       "\n",
       "    .dataframe tbody tr th {\n",
       "        vertical-align: top;\n",
       "    }\n",
       "\n",
       "    .dataframe thead th {\n",
       "        text-align: right;\n",
       "    }\n",
       "</style>\n",
       "<table border=\"1\" class=\"dataframe\">\n",
       "  <thead>\n",
       "    <tr style=\"text-align: right;\">\n",
       "      <th></th>\n",
       "      <th>qid</th>\n",
       "      <th>question_text</th>\n",
       "      <th>target</th>\n",
       "    </tr>\n",
       "  </thead>\n",
       "  <tbody>\n",
       "    <tr>\n",
       "      <th>298773</th>\n",
       "      <td>3a820a95342d28ad402f</td>\n",
       "      <td>How is strategic positioning is different from...</td>\n",
       "      <td>0</td>\n",
       "    </tr>\n",
       "    <tr>\n",
       "      <th>815475</th>\n",
       "      <td>9fca299caa0cf8f12eac</td>\n",
       "      <td>What is the best way for promote Facebook mark...</td>\n",
       "      <td>0</td>\n",
       "    </tr>\n",
       "    <tr>\n",
       "      <th>1133453</th>\n",
       "      <td>de23f10ad011a6fb13c7</td>\n",
       "      <td>How much energized proton radiation does the I...</td>\n",
       "      <td>0</td>\n",
       "    </tr>\n",
       "    <tr>\n",
       "      <th>1076426</th>\n",
       "      <td>d2eef16340896e963a63</td>\n",
       "      <td>Would any Indian men want to marry a women tha...</td>\n",
       "      <td>0</td>\n",
       "    </tr>\n",
       "    <tr>\n",
       "      <th>203792</th>\n",
       "      <td>27d584db9bd46b6ab44e</td>\n",
       "      <td>Which is the best business for startups in Ind...</td>\n",
       "      <td>0</td>\n",
       "    </tr>\n",
       "  </tbody>\n",
       "</table>\n",
       "</div>"
      ],
      "text/plain": [
       "                          qid  \\\n",
       "298773   3a820a95342d28ad402f   \n",
       "815475   9fca299caa0cf8f12eac   \n",
       "1133453  de23f10ad011a6fb13c7   \n",
       "1076426  d2eef16340896e963a63   \n",
       "203792   27d584db9bd46b6ab44e   \n",
       "\n",
       "                                             question_text  target  \n",
       "298773   How is strategic positioning is different from...       0  \n",
       "815475   What is the best way for promote Facebook mark...       0  \n",
       "1133453  How much energized proton radiation does the I...       0  \n",
       "1076426  Would any Indian men want to marry a women tha...       0  \n",
       "203792   Which is the best business for startups in Ind...       0  "
      ]
     },
     "execution_count": 5,
     "metadata": {},
     "output_type": "execute_result"
    }
   ],
   "source": [
    "train_data.head()"
   ]
  },
  {
   "cell_type": "code",
   "execution_count": 6,
   "metadata": {
    "execution": {
     "iopub.execute_input": "2020-12-01T16:01:55.670965Z",
     "iopub.status.busy": "2020-12-01T16:01:55.670150Z",
     "iopub.status.idle": "2020-12-01T16:01:55.686412Z",
     "shell.execute_reply": "2020-12-01T16:01:55.687449Z"
    },
    "papermill": {
     "duration": 0.075025,
     "end_time": "2020-12-01T16:01:55.687727",
     "exception": false,
     "start_time": "2020-12-01T16:01:55.612702",
     "status": "completed"
    },
    "tags": []
   },
   "outputs": [
    {
     "data": {
      "text/plain": [
       "(0    979943\n",
       " 1     64954\n",
       " Name: target, dtype: int64,\n",
       " 0    245369\n",
       " 1     15856\n",
       " Name: target, dtype: int64)"
      ]
     },
     "execution_count": 6,
     "metadata": {},
     "output_type": "execute_result"
    }
   ],
   "source": [
    "targets.value_counts(), val_targets.value_counts()"
   ]
  },
  {
   "cell_type": "code",
   "execution_count": 7,
   "metadata": {
    "execution": {
     "iopub.execute_input": "2020-12-01T16:01:55.817108Z",
     "iopub.status.busy": "2020-12-01T16:01:55.816376Z",
     "iopub.status.idle": "2020-12-01T16:02:03.557997Z",
     "shell.execute_reply": "2020-12-01T16:02:03.557299Z"
    },
    "papermill": {
     "duration": 7.805915,
     "end_time": "2020-12-01T16:02:03.558155",
     "exception": false,
     "start_time": "2020-12-01T16:01:55.752240",
     "status": "completed"
    },
    "tags": []
   },
   "outputs": [
    {
     "name": "stdout",
     "output_type": "stream",
     "text": [
      "how 230320\n",
      "is 352974\n",
      "strategic 203\n",
      "positioning 47\n",
      "different 9129\n",
      "from 54432\n",
      "marketing 2267\n",
      "positioning? 6\n",
      "what 363006\n",
      "the 529651\n",
      "best 49120\n"
     ]
    }
   ],
   "source": [
    "# for each word - counts how many times it occurs totally in sentences \n",
    "def configure_sentences(sentences, lower = True):\n",
    "    words = {}\n",
    "    for sentence in sentences:\n",
    "        for word in sentence.split():\n",
    "            if lower: word = word.lower()\n",
    "            words[word] = words.get(word, 0) + 1\n",
    "    return words\n",
    "\n",
    "words = configure_sentences(sentences)\n",
    "# look to frequencies of words in sentences\n",
    "DEBUG_DICTIONARY(words)"
   ]
  },
  {
   "cell_type": "code",
   "execution_count": 8,
   "metadata": {
    "execution": {
     "iopub.execute_input": "2020-12-01T16:02:03.758531Z",
     "iopub.status.busy": "2020-12-01T16:02:03.706820Z",
     "iopub.status.idle": "2020-12-01T16:02:03.898312Z",
     "shell.execute_reply": "2020-12-01T16:02:03.897629Z"
    },
    "papermill": {
     "duration": 0.304791,
     "end_time": "2020-12-01T16:02:03.898428",
     "exception": false,
     "start_time": "2020-12-01T16:02:03.593637",
     "status": "completed"
    },
    "tags": []
   },
   "outputs": [
    {
     "name": "stdout",
     "output_type": "stream",
     "text": [
      "the 529651\n",
      "what 363006\n",
      "is 352974\n",
      "a 326030\n",
      "to 323761\n",
      "in 298418\n",
      "of 265048\n",
      "i 244796\n",
      "how 230320\n",
      "and 204460\n",
      "do 194337\n"
     ]
    }
   ],
   "source": [
    "# find out what kind of words are frequently used\n",
    "DEBUG_DICTIONARY({word: cnt for word, cnt in sorted(words.items(), key=lambda item: item[1], reverse=True)})"
   ]
  },
  {
   "cell_type": "code",
   "execution_count": 9,
   "metadata": {
    "_cell_guid": "79c7e3d0-c299-4dcb-8224-4455121ee9b0",
    "_uuid": "d629ff2d2480ee46fbb7e2d37f6b5fab8052498a",
    "execution": {
     "iopub.execute_input": "2020-12-01T16:02:04.000206Z",
     "iopub.status.busy": "2020-12-01T16:02:03.995154Z",
     "iopub.status.idle": "2020-12-01T16:02:04.112728Z",
     "shell.execute_reply": "2020-12-01T16:02:04.112074Z"
    },
    "papermill": {
     "duration": 0.177495,
     "end_time": "2020-12-01T16:02:04.112879",
     "exception": false,
     "start_time": "2020-12-01T16:02:03.935384",
     "status": "completed"
    },
    "tags": []
   },
   "outputs": [
    {
     "name": "stdout",
     "output_type": "stream",
     "text": [
      "how 0\n",
      "is 1\n",
      "strategic 2\n",
      "positioning 3\n",
      "different 4\n",
      "from 5\n",
      "marketing 6\n",
      "positioning? 7\n",
      "what 8\n",
      "the 9\n",
      "best 10\n"
     ]
    }
   ],
   "source": [
    "# indexing words - in case needed\n",
    "def configure_words(words):\n",
    "    vocabulary = {}\n",
    "    for i, word in enumerate(words.keys()):\n",
    "        vocabulary[word] = i # vocabulary[i] = word\n",
    "    return vocabulary\n",
    "\n",
    "vocabulary = configure_words(words)\n",
    "DEBUG_DICTIONARY(vocabulary)"
   ]
  },
  {
   "cell_type": "code",
   "execution_count": 10,
   "metadata": {
    "execution": {
     "iopub.execute_input": "2020-12-01T16:02:04.191864Z",
     "iopub.status.busy": "2020-12-01T16:02:04.191126Z",
     "iopub.status.idle": "2020-12-01T16:02:04.193793Z",
     "shell.execute_reply": "2020-12-01T16:02:04.194265Z"
    },
    "papermill": {
     "duration": 0.044848,
     "end_time": "2020-12-01T16:02:04.194390",
     "exception": false,
     "start_time": "2020-12-01T16:02:04.149542",
     "status": "completed"
    },
    "tags": []
   },
   "outputs": [],
   "source": [
    "import matplotlib.pyplot as plt\n",
    "%matplotlib inline"
   ]
  },
  {
   "cell_type": "code",
   "execution_count": 11,
   "metadata": {
    "execution": {
     "iopub.execute_input": "2020-12-01T16:02:04.275795Z",
     "iopub.status.busy": "2020-12-01T16:02:04.274845Z",
     "iopub.status.idle": "2020-12-01T16:02:12.572311Z",
     "shell.execute_reply": "2020-12-01T16:02:12.571687Z"
    },
    "papermill": {
     "duration": 8.341751,
     "end_time": "2020-12-01T16:02:12.572437",
     "exception": false,
     "start_time": "2020-12-01T16:02:04.230686",
     "status": "completed"
    },
    "tags": []
   },
   "outputs": [
    {
     "name": "stdout",
     "output_type": "stream",
     "text": [
      "minimum sentence length 1 - average sentence length 13.0 - maximum sentence length 134\n"
     ]
    },
    {
     "data": {
      "image/png": "[encoded data removed]",
      "text/plain": [
       "<Figure size 432x288 with 1 Axes>"
      ]
     },
     "metadata": {
      "needs_background": "light"
     },
     "output_type": "display_data"
    }
   ],
   "source": [
    "# returns min, avrg and max sentence length - and also displays plot(histogram) for length distribution \n",
    "def configure_sentence_statistic(sentences):\n",
    "    def sentence_len(s):\n",
    "        return len(s.split())\n",
    "    \n",
    "    sentences.apply(sentence_len).plot(title='Sentence Length Distribution',y='Length Frequency',kind='hist', colormap='autumn', logy=True);\n",
    "    return np.min(sentences.apply(sentence_len)), np.round(np.mean(sentences.apply(sentence_len))), np.max(sentences.apply(sentence_len))\n",
    "\n",
    "min, avrg, max = configure_sentence_statistic(sentences)\n",
    "\n",
    "print('minimum sentence length {} - average sentence length {} - maximum sentence length {}'.format(min, avrg, max))"
   ]
  },
  {
   "cell_type": "code",
   "execution_count": 12,
   "metadata": {
    "execution": {
     "iopub.execute_input": "2020-12-01T16:02:12.663154Z",
     "iopub.status.busy": "2020-12-01T16:02:12.662496Z",
     "iopub.status.idle": "2020-12-01T16:02:12.666677Z",
     "shell.execute_reply": "2020-12-01T16:02:12.666210Z"
    },
    "papermill": {
     "duration": 0.047682,
     "end_time": "2020-12-01T16:02:12.666773",
     "exception": false,
     "start_time": "2020-12-01T16:02:12.619091",
     "status": "completed"
    },
    "tags": []
   },
   "outputs": [],
   "source": [
    "HIDDEN_SIZE = 30"
   ]
  },
  {
   "cell_type": "markdown",
   "metadata": {
    "papermill": {
     "duration": 0.039992,
     "end_time": "2020-12-01T16:02:12.746675",
     "exception": false,
     "start_time": "2020-12-01T16:02:12.706683",
     "status": "completed"
    },
    "tags": []
   },
   "source": [
    "Average length is 13, but if we take length as hiden dimension about 30-35 it should be better - as we see these lengths(30-35) are in the middle of data.\n",
    "if we got 13 - most of sentences would be cut and their 70-80% would be lost...  also the cut parts should be important for the final target, but i think its no need to filter them - as start of 30 word must have enough content to predict final target - if dont, some almost same sentences should have different targets and i think this will help to learn still the right way."
   ]
  },
  {
   "cell_type": "code",
   "execution_count": 13,
   "metadata": {
    "execution": {
     "iopub.execute_input": "2020-12-01T16:02:12.836453Z",
     "iopub.status.busy": "2020-12-01T16:02:12.835713Z",
     "iopub.status.idle": "2020-12-01T16:02:14.026039Z",
     "shell.execute_reply": "2020-12-01T16:02:14.025016Z"
    },
    "papermill": {
     "duration": 1.239476,
     "end_time": "2020-12-01T16:02:14.026152",
     "exception": false,
     "start_time": "2020-12-01T16:02:12.786676",
     "status": "completed"
    },
    "tags": []
   },
   "outputs": [
    {
     "data": {
      "text/html": [
       "        <script type=\"text/javascript\">\n",
       "        window.PlotlyConfig = {MathJaxConfig: 'local'};\n",
       "        if (window.MathJax) {MathJax.Hub.Config({SVG: {font: \"STIX-Web\"}});}\n",
       "        if (typeof require !== 'undefined') {\n",
       "        require.undef(\"plotly\");\n",
       "        requirejs.config({\n",
       "            paths: {\n",
       "                'plotly': ['https://cdn.plot.ly/plotly-latest.min']\n",
       "            }\n",
       "        });\n",
       "        require(['plotly'], function(Plotly) {\n",
       "            window._Plotly = Plotly;\n",
       "        });\n",
       "        }\n",
       "        </script>\n",
       "        "
      ]
     },
     "metadata": {},
     "output_type": "display_data"
    },
    {
     "data": {
      "application/vnd.plotly.v1+json": {
       "config": {
        "linkText": "Export to plot.ly",
        "plotlyServerURL": "https://plot.ly",
        "showLink": false
       },
       "data": [
        {
         "labels": [
          0,
          1
         ],
         "type": "pie",
         "values": [
          93.7836935123749,
          6.216306487625096
         ]
        }
       ],
       "layout": {
        "font": {
         "size": 15
        },
        "height": 500,
        "template": {
         "data": {
          "bar": [
           {
            "error_x": {
             "color": "#2a3f5f"
            },
            "error_y": {
             "color": "#2a3f5f"
            },
            "marker": {
             "line": {
              "color": "#E5ECF6",
              "width": 0.5
             }
            },
            "type": "bar"
           }
          ],
          "barpolar": [
           {
            "marker": {
             "line": {
              "color": "#E5ECF6",
              "width": 0.5
             }
            },
            "type": "barpolar"
           }
          ],
          "carpet": [
           {
            "aaxis": {
             "endlinecolor": "#2a3f5f",
             "gridcolor": "white",
             "linecolor": "white",
             "minorgridcolor": "white",
             "startlinecolor": "#2a3f5f"
            },
            "baxis": {
             "endlinecolor": "#2a3f5f",
             "gridcolor": "white",
             "linecolor": "white",
             "minorgridcolor": "white",
             "startlinecolor": "#2a3f5f"
            },
            "type": "carpet"
           }
          ],
          "choropleth": [
           {
            "colorbar": {
             "outlinewidth": 0,
             "ticks": ""
            },
            "type": "choropleth"
           }
          ],
          "contour": [
           {
            "colorbar": {
             "outlinewidth": 0,
             "ticks": ""
            },
            "colorscale": [
             [
              0.0,
              "#0d0887"
             ],
             [
              0.1111111111111111,
              "#46039f"
             ],
             [
              0.2222222222222222,
              "#7201a8"
             ],
             [
              0.3333333333333333,
              "#9c179e"
             ],
             [
              0.4444444444444444,
              "#bd3786"
             ],
             [
              0.5555555555555556,
              "#d8576b"
             ],
             [
              0.6666666666666666,
              "#ed7953"
             ],
             [
              0.7777777777777778,
              "#fb9f3a"
             ],
             [
              0.8888888888888888,
              "#fdca26"
             ],
             [
              1.0,
              "#f0f921"
             ]
            ],
            "type": "contour"
           }
          ],
          "contourcarpet": [
           {
            "colorbar": {
             "outlinewidth": 0,
             "ticks": ""
            },
            "type": "contourcarpet"
           }
          ],
          "heatmap": [
           {
            "colorbar": {
             "outlinewidth": 0,
             "ticks": ""
            },
            "colorscale": [
             [
              0.0,
              "#0d0887"
             ],
             [
              0.1111111111111111,
              "#46039f"
             ],
             [
              0.2222222222222222,
              "#7201a8"
             ],
             [
              0.3333333333333333,
              "#9c179e"
             ],
             [
              0.4444444444444444,
              "#bd3786"
             ],
             [
              0.5555555555555556,
              "#d8576b"
             ],
             [
              0.6666666666666666,
              "#ed7953"
             ],
             [
              0.7777777777777778,
              "#fb9f3a"
             ],
             [
              0.8888888888888888,
              "#fdca26"
             ],
             [
              1.0,
              "#f0f921"
             ]
            ],
            "type": "heatmap"
           }
          ],
          "heatmapgl": [
           {
            "colorbar": {
             "outlinewidth": 0,
             "ticks": ""
            },
            "colorscale": [
             [
              0.0,
              "#0d0887"
             ],
             [
              0.1111111111111111,
              "#46039f"
             ],
             [
              0.2222222222222222,
              "#7201a8"
             ],
             [
              0.3333333333333333,
              "#9c179e"
             ],
             [
              0.4444444444444444,
              "#bd3786"
             ],
             [
              0.5555555555555556,
              "#d8576b"
             ],
             [
              0.6666666666666666,
              "#ed7953"
             ],
             [
              0.7777777777777778,
              "#fb9f3a"
             ],
             [
              0.8888888888888888,
              "#fdca26"
             ],
             [
              1.0,
              "#f0f921"
             ]
            ],
            "type": "heatmapgl"
           }
          ],
          "histogram": [
           {
            "marker": {
             "colorbar": {
              "outlinewidth": 0,
              "ticks": ""
             }
            },
            "type": "histogram"
           }
          ],
          "histogram2d": [
           {
            "colorbar": {
             "outlinewidth": 0,
             "ticks": ""
            },
            "colorscale": [
             [
              0.0,
              "#0d0887"
             ],
             [
              0.1111111111111111,
              "#46039f"
             ],
             [
              0.2222222222222222,
              "#7201a8"
             ],
             [
              0.3333333333333333,
              "#9c179e"
             ],
             [
              0.4444444444444444,
              "#bd3786"
             ],
             [
              0.5555555555555556,
              "#d8576b"
             ],
             [
              0.6666666666666666,
              "#ed7953"
             ],
             [
              0.7777777777777778,
              "#fb9f3a"
             ],
             [
              0.8888888888888888,
              "#fdca26"
             ],
             [
              1.0,
              "#f0f921"
             ]
            ],
            "type": "histogram2d"
           }
          ],
          "histogram2dcontour": [
           {
            "colorbar": {
             "outlinewidth": 0,
             "ticks": ""
            },
            "colorscale": [
             [
              0.0,
              "#0d0887"
             ],
             [
              0.1111111111111111,
              "#46039f"
             ],
             [
              0.2222222222222222,
              "#7201a8"
             ],
             [
              0.3333333333333333,
              "#9c179e"
             ],
             [
              0.4444444444444444,
              "#bd3786"
             ],
             [
              0.5555555555555556,
              "#d8576b"
             ],
             [
              0.6666666666666666,
              "#ed7953"
             ],
             [
              0.7777777777777778,
              "#fb9f3a"
             ],
             [
              0.8888888888888888,
              "#fdca26"
             ],
             [
              1.0,
              "#f0f921"
             ]
            ],
            "type": "histogram2dcontour"
           }
          ],
          "mesh3d": [
           {
            "colorbar": {
             "outlinewidth": 0,
             "ticks": ""
            },
            "type": "mesh3d"
           }
          ],
          "parcoords": [
           {
            "line": {
             "colorbar": {
              "outlinewidth": 0,
              "ticks": ""
             }
            },
            "type": "parcoords"
           }
          ],
          "pie": [
           {
            "automargin": true,
            "type": "pie"
           }
          ],
          "scatter": [
           {
            "marker": {
             "colorbar": {
              "outlinewidth": 0,
              "ticks": ""
             }
            },
            "type": "scatter"
           }
          ],
          "scatter3d": [
           {
            "line": {
             "colorbar": {
              "outlinewidth": 0,
              "ticks": ""
             }
            },
            "marker": {
             "colorbar": {
              "outlinewidth": 0,
              "ticks": ""
             }
            },
            "type": "scatter3d"
           }
          ],
          "scattercarpet": [
           {
            "marker": {
             "colorbar": {
              "outlinewidth": 0,
              "ticks": ""
             }
            },
            "type": "scattercarpet"
           }
          ],
          "scattergeo": [
           {
            "marker": {
             "colorbar": {
              "outlinewidth": 0,
              "ticks": ""
             }
            },
            "type": "scattergeo"
           }
          ],
          "scattergl": [
           {
            "marker": {
             "colorbar": {
              "outlinewidth": 0,
              "ticks": ""
             }
            },
            "type": "scattergl"
           }
          ],
          "scattermapbox": [
           {
            "marker": {
             "colorbar": {
              "outlinewidth": 0,
              "ticks": ""
             }
            },
            "type": "scattermapbox"
           }
          ],
          "scatterpolar": [
           {
            "marker": {
             "colorbar": {
              "outlinewidth": 0,
              "ticks": ""
             }
            },
            "type": "scatterpolar"
           }
          ],
          "scatterpolargl": [
           {
            "marker": {
             "colorbar": {
              "outlinewidth": 0,
              "ticks": ""
             }
            },
            "type": "scatterpolargl"
           }
          ],
          "scatterternary": [
           {
            "marker": {
             "colorbar": {
              "outlinewidth": 0,
              "ticks": ""
             }
            },
            "type": "scatterternary"
           }
          ],
          "surface": [
           {
            "colorbar": {
             "outlinewidth": 0,
             "ticks": ""
            },
            "colorscale": [
             [
              0.0,
              "#0d0887"
             ],
             [
              0.1111111111111111,
              "#46039f"
             ],
             [
              0.2222222222222222,
              "#7201a8"
             ],
             [
              0.3333333333333333,
              "#9c179e"
             ],
             [
              0.4444444444444444,
              "#bd3786"
             ],
             [
              0.5555555555555556,
              "#d8576b"
             ],
             [
              0.6666666666666666,
              "#ed7953"
             ],
             [
              0.7777777777777778,
              "#fb9f3a"
             ],
             [
              0.8888888888888888,
              "#fdca26"
             ],
             [
              1.0,
              "#f0f921"
             ]
            ],
            "type": "surface"
           }
          ],
          "table": [
           {
            "cells": {
             "fill": {
              "color": "#EBF0F8"
             },
             "line": {
              "color": "white"
             }
            },
            "header": {
             "fill": {
              "color": "#C8D4E3"
             },
             "line": {
              "color": "white"
             }
            },
            "type": "table"
           }
          ]
         },
         "layout": {
          "annotationdefaults": {
           "arrowcolor": "#2a3f5f",
           "arrowhead": 0,
           "arrowwidth": 1
          },
          "coloraxis": {
           "colorbar": {
            "outlinewidth": 0,
            "ticks": ""
           }
          },
          "colorscale": {
           "diverging": [
            [
             0,
             "#8e0152"
            ],
            [
             0.1,
             "#c51b7d"
            ],
            [
             0.2,
             "#de77ae"
            ],
            [
             0.3,
             "#f1b6da"
            ],
            [
             0.4,
             "#fde0ef"
            ],
            [
             0.5,
             "#f7f7f7"
            ],
            [
             0.6,
             "#e6f5d0"
            ],
            [
             0.7,
             "#b8e186"
            ],
            [
             0.8,
             "#7fbc41"
            ],
            [
             0.9,
             "#4d9221"
            ],
            [
             1,
             "#276419"
            ]
           ],
           "sequential": [
            [
             0.0,
             "#0d0887"
            ],
            [
             0.1111111111111111,
             "#46039f"
            ],
            [
             0.2222222222222222,
             "#7201a8"
            ],
            [
             0.3333333333333333,
             "#9c179e"
            ],
            [
             0.4444444444444444,
             "#bd3786"
            ],
            [
             0.5555555555555556,
             "#d8576b"
            ],
            [
             0.6666666666666666,
             "#ed7953"
            ],
            [
             0.7777777777777778,
             "#fb9f3a"
            ],
            [
             0.8888888888888888,
             "#fdca26"
            ],
            [
             1.0,
             "#f0f921"
            ]
           ],
           "sequentialminus": [
            [
             0.0,
             "#0d0887"
            ],
            [
             0.1111111111111111,
             "#46039f"
            ],
            [
             0.2222222222222222,
             "#7201a8"
            ],
            [
             0.3333333333333333,
             "#9c179e"
            ],
            [
             0.4444444444444444,
             "#bd3786"
            ],
            [
             0.5555555555555556,
             "#d8576b"
            ],
            [
             0.6666666666666666,
             "#ed7953"
            ],
            [
             0.7777777777777778,
             "#fb9f3a"
            ],
            [
             0.8888888888888888,
             "#fdca26"
            ],
            [
             1.0,
             "#f0f921"
            ]
           ]
          },
          "colorway": [
           "#636efa",
           "#EF553B",
           "#00cc96",
           "#ab63fa",
           "#FFA15A",
           "#19d3f3",
           "#FF6692",
           "#B6E880",
           "#FF97FF",
           "#FECB52"
          ],
          "font": {
           "color": "#2a3f5f"
          },
          "geo": {
           "bgcolor": "white",
           "lakecolor": "white",
           "landcolor": "#E5ECF6",
           "showlakes": true,
           "showland": true,
           "subunitcolor": "white"
          },
          "hoverlabel": {
           "align": "left"
          },
          "hovermode": "closest",
          "mapbox": {
           "style": "light"
          },
          "paper_bgcolor": "white",
          "plot_bgcolor": "#E5ECF6",
          "polar": {
           "angularaxis": {
            "gridcolor": "white",
            "linecolor": "white",
            "ticks": ""
           },
           "bgcolor": "#E5ECF6",
           "radialaxis": {
            "gridcolor": "white",
            "linecolor": "white",
            "ticks": ""
           }
          },
          "scene": {
           "xaxis": {
            "backgroundcolor": "#E5ECF6",
            "gridcolor": "white",
            "gridwidth": 2,
            "linecolor": "white",
            "showbackground": true,
            "ticks": "",
            "zerolinecolor": "white"
           },
           "yaxis": {
            "backgroundcolor": "#E5ECF6",
            "gridcolor": "white",
            "gridwidth": 2,
            "linecolor": "white",
            "showbackground": true,
            "ticks": "",
            "zerolinecolor": "white"
           },
           "zaxis": {
            "backgroundcolor": "#E5ECF6",
            "gridcolor": "white",
            "gridwidth": 2,
            "linecolor": "white",
            "showbackground": true,
            "ticks": "",
            "zerolinecolor": "white"
           }
          },
          "shapedefaults": {
           "line": {
            "color": "#2a3f5f"
           }
          },
          "ternary": {
           "aaxis": {
            "gridcolor": "white",
            "linecolor": "white",
            "ticks": ""
           },
           "baxis": {
            "gridcolor": "white",
            "linecolor": "white",
            "ticks": ""
           },
           "bgcolor": "#E5ECF6",
           "caxis": {
            "gridcolor": "white",
            "linecolor": "white",
            "ticks": ""
           }
          },
          "title": {
           "x": 0.05
          },
          "xaxis": {
           "automargin": true,
           "gridcolor": "white",
           "linecolor": "white",
           "ticks": "",
           "title": {
            "standoff": 15
           },
           "zerolinecolor": "white",
           "zerolinewidth": 2
          },
          "yaxis": {
           "automargin": true,
           "gridcolor": "white",
           "linecolor": "white",
           "ticks": "",
           "title": {
            "standoff": 15
           },
           "zerolinecolor": "white",
           "zerolinewidth": 2
          }
         }
        },
        "title": {
         "text": "Target Distribution"
        },
        "width": 500
       }
      },
      "text/html": [
       "<div>                            <div id=\"a45e4375-a081-4405-9d8e-7d0fe3dfc453\" class=\"plotly-graph-div\" style=\"height:500px; width:500px;\"></div>            <script type=\"text/javascript\">                require([\"plotly\"], function(Plotly) {                    window.PLOTLYENV=window.PLOTLYENV || {};                                    if (document.getElementById(\"a45e4375-a081-4405-9d8e-7d0fe3dfc453\")) {                    Plotly.newPlot(                        \"a45e4375-a081-4405-9d8e-7d0fe3dfc453\",                        [{\"labels\": [0, 1], \"type\": \"pie\", \"values\": [93.7836935123749, 6.216306487625096]}],                        {\"font\": {\"size\": 15}, \"height\": 500, \"template\": {\"data\": {\"bar\": [{\"error_x\": {\"color\": \"#2a3f5f\"}, \"error_y\": {\"color\": \"#2a3f5f\"}, \"marker\": {\"line\": {\"color\": \"#E5ECF6\", \"width\": 0.5}}, \"type\": \"bar\"}], \"barpolar\": [{\"marker\": {\"line\": {\"color\": \"#E5ECF6\", \"width\": 0.5}}, \"type\": \"barpolar\"}], \"carpet\": [{\"aaxis\": {\"endlinecolor\": \"#2a3f5f\", \"gridcolor\": \"white\", \"linecolor\": \"white\", \"minorgridcolor\": \"white\", \"startlinecolor\": \"#2a3f5f\"}, \"baxis\": {\"endlinecolor\": \"#2a3f5f\", \"gridcolor\": \"white\", \"linecolor\": \"white\", \"minorgridcolor\": \"white\", \"startlinecolor\": \"#2a3f5f\"}, \"type\": \"carpet\"}], \"choropleth\": [{\"colorbar\": {\"outlinewidth\": 0, \"ticks\": \"\"}, \"type\": \"choropleth\"}], \"contour\": [{\"colorbar\": {\"outlinewidth\": 0, \"ticks\": \"\"}, \"colorscale\": [[0.0, \"#0d0887\"], [0.1111111111111111, \"#46039f\"], [0.2222222222222222, \"#7201a8\"], [0.3333333333333333, \"#9c179e\"], [0.4444444444444444, \"#bd3786\"], [0.5555555555555556, \"#d8576b\"], [0.6666666666666666, \"#ed7953\"], [0.7777777777777778, \"#fb9f3a\"], [0.8888888888888888, \"#fdca26\"], [1.0, \"#f0f921\"]], \"type\": \"contour\"}], \"contourcarpet\": [{\"colorbar\": {\"outlinewidth\": 0, \"ticks\": \"\"}, \"type\": \"contourcarpet\"}], \"heatmap\": [{\"colorbar\": {\"outlinewidth\": 0, \"ticks\": \"\"}, \"colorscale\": [[0.0, \"#0d0887\"], [0.1111111111111111, \"#46039f\"], [0.2222222222222222, \"#7201a8\"], [0.3333333333333333, \"#9c179e\"], [0.4444444444444444, \"#bd3786\"], [0.5555555555555556, \"#d8576b\"], [0.6666666666666666, \"#ed7953\"], [0.7777777777777778, \"#fb9f3a\"], [0.8888888888888888, \"#fdca26\"], [1.0, \"#f0f921\"]], \"type\": \"heatmap\"}], \"heatmapgl\": [{\"colorbar\": {\"outlinewidth\": 0, \"ticks\": \"\"}, \"colorscale\": [[0.0, \"#0d0887\"], [0.1111111111111111, \"#46039f\"], [0.2222222222222222, \"#7201a8\"], [0.3333333333333333, \"#9c179e\"], [0.4444444444444444, \"#bd3786\"], [0.5555555555555556, \"#d8576b\"], [0.6666666666666666, \"#ed7953\"], [0.7777777777777778, \"#fb9f3a\"], [0.8888888888888888, \"#fdca26\"], [1.0, \"#f0f921\"]], \"type\": \"heatmapgl\"}], \"histogram\": [{\"marker\": {\"colorbar\": {\"outlinewidth\": 0, \"ticks\": \"\"}}, \"type\": \"histogram\"}], \"histogram2d\": [{\"colorbar\": {\"outlinewidth\": 0, \"ticks\": \"\"}, \"colorscale\": [[0.0, \"#0d0887\"], [0.1111111111111111, \"#46039f\"], [0.2222222222222222, \"#7201a8\"], [0.3333333333333333, \"#9c179e\"], [0.4444444444444444, \"#bd3786\"], [0.5555555555555556, \"#d8576b\"], [0.6666666666666666, \"#ed7953\"], [0.7777777777777778, \"#fb9f3a\"], [0.8888888888888888, \"#fdca26\"], [1.0, \"#f0f921\"]], \"type\": \"histogram2d\"}], \"histogram2dcontour\": [{\"colorbar\": {\"outlinewidth\": 0, \"ticks\": \"\"}, \"colorscale\": [[0.0, \"#0d0887\"], [0.1111111111111111, \"#46039f\"], [0.2222222222222222, \"#7201a8\"], [0.3333333333333333, \"#9c179e\"], [0.4444444444444444, \"#bd3786\"], [0.5555555555555556, \"#d8576b\"], [0.6666666666666666, \"#ed7953\"], [0.7777777777777778, \"#fb9f3a\"], [0.8888888888888888, \"#fdca26\"], [1.0, \"#f0f921\"]], \"type\": \"histogram2dcontour\"}], \"mesh3d\": [{\"colorbar\": {\"outlinewidth\": 0, \"ticks\": \"\"}, \"type\": \"mesh3d\"}], \"parcoords\": [{\"line\": {\"colorbar\": {\"outlinewidth\": 0, \"ticks\": \"\"}}, \"type\": \"parcoords\"}], \"pie\": [{\"automargin\": true, \"type\": \"pie\"}], \"scatter\": [{\"marker\": {\"colorbar\": {\"outlinewidth\": 0, \"ticks\": \"\"}}, \"type\": \"scatter\"}], \"scatter3d\": [{\"line\": {\"colorbar\": {\"outlinewidth\": 0, \"ticks\": \"\"}}, \"marker\": {\"colorbar\": {\"outlinewidth\": 0, \"ticks\": \"\"}}, \"type\": \"scatter3d\"}], \"scattercarpet\": [{\"marker\": {\"colorbar\": {\"outlinewidth\": 0, \"ticks\": \"\"}}, \"type\": \"scattercarpet\"}], \"scattergeo\": [{\"marker\": {\"colorbar\": {\"outlinewidth\": 0, \"ticks\": \"\"}}, \"type\": \"scattergeo\"}], \"scattergl\": [{\"marker\": {\"colorbar\": {\"outlinewidth\": 0, \"ticks\": \"\"}}, \"type\": \"scattergl\"}], \"scattermapbox\": [{\"marker\": {\"colorbar\": {\"outlinewidth\": 0, \"ticks\": \"\"}}, \"type\": \"scattermapbox\"}], \"scatterpolar\": [{\"marker\": {\"colorbar\": {\"outlinewidth\": 0, \"ticks\": \"\"}}, \"type\": \"scatterpolar\"}], \"scatterpolargl\": [{\"marker\": {\"colorbar\": {\"outlinewidth\": 0, \"ticks\": \"\"}}, \"type\": \"scatterpolargl\"}], \"scatterternary\": [{\"marker\": {\"colorbar\": {\"outlinewidth\": 0, \"ticks\": \"\"}}, \"type\": \"scatterternary\"}], \"surface\": [{\"colorbar\": {\"outlinewidth\": 0, \"ticks\": \"\"}, \"colorscale\": [[0.0, \"#0d0887\"], [0.1111111111111111, \"#46039f\"], [0.2222222222222222, \"#7201a8\"], [0.3333333333333333, \"#9c179e\"], [0.4444444444444444, \"#bd3786\"], [0.5555555555555556, \"#d8576b\"], [0.6666666666666666, \"#ed7953\"], [0.7777777777777778, \"#fb9f3a\"], [0.8888888888888888, \"#fdca26\"], [1.0, \"#f0f921\"]], \"type\": \"surface\"}], \"table\": [{\"cells\": {\"fill\": {\"color\": \"#EBF0F8\"}, \"line\": {\"color\": \"white\"}}, \"header\": {\"fill\": {\"color\": \"#C8D4E3\"}, \"line\": {\"color\": \"white\"}}, \"type\": \"table\"}]}, \"layout\": {\"annotationdefaults\": {\"arrowcolor\": \"#2a3f5f\", \"arrowhead\": 0, \"arrowwidth\": 1}, \"coloraxis\": {\"colorbar\": {\"outlinewidth\": 0, \"ticks\": \"\"}}, \"colorscale\": {\"diverging\": [[0, \"#8e0152\"], [0.1, \"#c51b7d\"], [0.2, \"#de77ae\"], [0.3, \"#f1b6da\"], [0.4, \"#fde0ef\"], [0.5, \"#f7f7f7\"], [0.6, \"#e6f5d0\"], [0.7, \"#b8e186\"], [0.8, \"#7fbc41\"], [0.9, \"#4d9221\"], [1, \"#276419\"]], \"sequential\": [[0.0, \"#0d0887\"], [0.1111111111111111, \"#46039f\"], [0.2222222222222222, \"#7201a8\"], [0.3333333333333333, \"#9c179e\"], [0.4444444444444444, \"#bd3786\"], [0.5555555555555556, \"#d8576b\"], [0.6666666666666666, \"#ed7953\"], [0.7777777777777778, \"#fb9f3a\"], [0.8888888888888888, \"#fdca26\"], [1.0, \"#f0f921\"]], \"sequentialminus\": [[0.0, \"#0d0887\"], [0.1111111111111111, \"#46039f\"], [0.2222222222222222, \"#7201a8\"], [0.3333333333333333, \"#9c179e\"], [0.4444444444444444, \"#bd3786\"], [0.5555555555555556, \"#d8576b\"], [0.6666666666666666, \"#ed7953\"], [0.7777777777777778, \"#fb9f3a\"], [0.8888888888888888, \"#fdca26\"], [1.0, \"#f0f921\"]]}, \"colorway\": [\"#636efa\", \"#EF553B\", \"#00cc96\", \"#ab63fa\", \"#FFA15A\", \"#19d3f3\", \"#FF6692\", \"#B6E880\", \"#FF97FF\", \"#FECB52\"], \"font\": {\"color\": \"#2a3f5f\"}, \"geo\": {\"bgcolor\": \"white\", \"lakecolor\": \"white\", \"landcolor\": \"#E5ECF6\", \"showlakes\": true, \"showland\": true, \"subunitcolor\": \"white\"}, \"hoverlabel\": {\"align\": \"left\"}, \"hovermode\": \"closest\", \"mapbox\": {\"style\": \"light\"}, \"paper_bgcolor\": \"white\", \"plot_bgcolor\": \"#E5ECF6\", \"polar\": {\"angularaxis\": {\"gridcolor\": \"white\", \"linecolor\": \"white\", \"ticks\": \"\"}, \"bgcolor\": \"#E5ECF6\", \"radialaxis\": {\"gridcolor\": \"white\", \"linecolor\": \"white\", \"ticks\": \"\"}}, \"scene\": {\"xaxis\": {\"backgroundcolor\": \"#E5ECF6\", \"gridcolor\": \"white\", \"gridwidth\": 2, \"linecolor\": \"white\", \"showbackground\": true, \"ticks\": \"\", \"zerolinecolor\": \"white\"}, \"yaxis\": {\"backgroundcolor\": \"#E5ECF6\", \"gridcolor\": \"white\", \"gridwidth\": 2, \"linecolor\": \"white\", \"showbackground\": true, \"ticks\": \"\", \"zerolinecolor\": \"white\"}, \"zaxis\": {\"backgroundcolor\": \"#E5ECF6\", \"gridcolor\": \"white\", \"gridwidth\": 2, \"linecolor\": \"white\", \"showbackground\": true, \"ticks\": \"\", \"zerolinecolor\": \"white\"}}, \"shapedefaults\": {\"line\": {\"color\": \"#2a3f5f\"}}, \"ternary\": {\"aaxis\": {\"gridcolor\": \"white\", \"linecolor\": \"white\", \"ticks\": \"\"}, \"baxis\": {\"gridcolor\": \"white\", \"linecolor\": \"white\", \"ticks\": \"\"}, \"bgcolor\": \"#E5ECF6\", \"caxis\": {\"gridcolor\": \"white\", \"linecolor\": \"white\", \"ticks\": \"\"}}, \"title\": {\"x\": 0.05}, \"xaxis\": {\"automargin\": true, \"gridcolor\": \"white\", \"linecolor\": \"white\", \"ticks\": \"\", \"title\": {\"standoff\": 15}, \"zerolinecolor\": \"white\", \"zerolinewidth\": 2}, \"yaxis\": {\"automargin\": true, \"gridcolor\": \"white\", \"linecolor\": \"white\", \"ticks\": \"\", \"title\": {\"standoff\": 15}, \"zerolinecolor\": \"white\", \"zerolinewidth\": 2}}}, \"title\": {\"text\": \"Target Distribution\"}, \"width\": 500},                        {\"responsive\": true}                    ).then(function(){\n",
       "                            \n",
       "var gd = document.getElementById('a45e4375-a081-4405-9d8e-7d0fe3dfc453');\n",
       "var x = new MutationObserver(function (mutations, observer) {{\n",
       "        var display = window.getComputedStyle(gd).display;\n",
       "        if (!display || display === 'none') {{\n",
       "            console.log([gd, 'removed!']);\n",
       "            Plotly.purge(gd);\n",
       "            observer.disconnect();\n",
       "        }}\n",
       "}});\n",
       "\n",
       "// Listen for the removal of the full notebook cells\n",
       "var notebookContainer = gd.closest('#notebook-container');\n",
       "if (notebookContainer) {{\n",
       "    x.observe(notebookContainer, {childList: true});\n",
       "}}\n",
       "\n",
       "// Listen for the clearing of the current output cell\n",
       "var outputEl = gd.closest('.output');\n",
       "if (outputEl) {{\n",
       "    x.observe(outputEl, {childList: true});\n",
       "}}\n",
       "\n",
       "                        })                };                });            </script>        </div>"
      ]
     },
     "metadata": {},
     "output_type": "display_data"
    },
    {
     "data": {
      "text/plain": [
       "0    979943\n",
       "1     64954\n",
       "Name: target, dtype: int64"
      ]
     },
     "execution_count": 13,
     "metadata": {},
     "output_type": "execute_result"
    }
   ],
   "source": [
    "import plotly.offline as py\n",
    "import plotly.graph_objs as go\n",
    "py.init_notebook_mode(connected=True)\n",
    "\n",
    "# display how the targets are distributed\n",
    "def configure_target_statistic(targets):\n",
    "    trg_cnt = targets.value_counts()\n",
    "    labels, sizes = (np.array(trg_cnt.index)), (np.array(100*(trg_cnt/trg_cnt.sum())))\n",
    "    py.iplot(go.Figure(data=[go.Pie(labels=labels, values=sizes)], layout=go.Layout(title='Target Distribution',font=dict(size=15),width=500, height=500)))\n",
    "    return trg_cnt\n",
    "\n",
    "configure_target_statistic(targets)"
   ]
  },
  {
   "cell_type": "markdown",
   "metadata": {
    "papermill": {
     "duration": 0.04493,
     "end_time": "2020-12-01T16:02:14.116997",
     "exception": false,
     "start_time": "2020-12-01T16:02:14.072067",
     "status": "completed"
    },
    "tags": []
   },
   "source": [
    "it seems that only 6.2% of targets are 1. so we need some careful model to dont go overboard - overfit ^^"
   ]
  },
  {
   "cell_type": "code",
   "execution_count": 14,
   "metadata": {
    "execution": {
     "iopub.execute_input": "2020-12-01T16:02:14.218827Z",
     "iopub.status.busy": "2020-12-01T16:02:14.217080Z",
     "iopub.status.idle": "2020-12-01T16:02:14.219594Z",
     "shell.execute_reply": "2020-12-01T16:02:14.220091Z"
    },
    "papermill": {
     "duration": 0.05734,
     "end_time": "2020-12-01T16:02:14.220221",
     "exception": false,
     "start_time": "2020-12-01T16:02:14.162881",
     "status": "completed"
    },
    "tags": []
   },
   "outputs": [],
   "source": [
    "# filters data according to given parameters\n",
    "def filter_and_display_data(sentences, targets, target=0, min_len=5, max_len=30, limit=3):\n",
    "    result = []\n",
    "    for i, sentence in enumerate(sentences):\n",
    "        sent_len = len(sentence.split(' '))\n",
    "        if min_len <= sent_len and sent_len <= max_len:\n",
    "            if targets[i] == target:\n",
    "                result.append(sentence)\n",
    "                if len(result) >= limit: break\n",
    "    \n",
    "    if(len(result) ==- 0):\n",
    "        print('no such sequencies found.')\n",
    "        return\n",
    "    \n",
    "    print('{} {} sentences with length between {}-{}:\\n'.format(limit, 'GOOD' if target == 0 else 'BAD', min_len, max_len))\n",
    "    for i, s in enumerate(result):\n",
    "        print(str(i+1)+\")\",s)\n"
   ]
  },
  {
   "cell_type": "markdown",
   "metadata": {
    "papermill": {
     "duration": 0.045135,
     "end_time": "2020-12-01T16:02:14.310270",
     "exception": false,
     "start_time": "2020-12-01T16:02:14.265135",
     "status": "completed"
    },
    "tags": []
   },
   "source": [
    "lets see some examples of our data"
   ]
  },
  {
   "cell_type": "code",
   "execution_count": 15,
   "metadata": {
    "execution": {
     "iopub.execute_input": "2020-12-01T16:02:14.407782Z",
     "iopub.status.busy": "2020-12-01T16:02:14.406882Z",
     "iopub.status.idle": "2020-12-01T16:02:14.411432Z",
     "shell.execute_reply": "2020-12-01T16:02:14.412053Z"
    },
    "papermill": {
     "duration": 0.055793,
     "end_time": "2020-12-01T16:02:14.412209",
     "exception": false,
     "start_time": "2020-12-01T16:02:14.356416",
     "status": "completed"
    },
    "tags": []
   },
   "outputs": [
    {
     "name": "stdout",
     "output_type": "stream",
     "text": [
      "3 GOOD sentences with length between 5-30:\n",
      "\n",
      "1) How is strategic positioning is different from marketing positioning?\n",
      "2) What is the best way for promote Facebook marketing?\n",
      "3) How much energized proton radiation does the ISS experience? If it is harmful levels to the astronauts, what kind of shielding does it use?\n"
     ]
    }
   ],
   "source": [
    "filter_and_display_data(sentences, np.asarray(targets, dtype='int'), target=0)"
   ]
  },
  {
   "cell_type": "code",
   "execution_count": 16,
   "metadata": {
    "execution": {
     "iopub.execute_input": "2020-12-01T16:02:14.509624Z",
     "iopub.status.busy": "2020-12-01T16:02:14.508742Z",
     "iopub.status.idle": "2020-12-01T16:02:14.513013Z",
     "shell.execute_reply": "2020-12-01T16:02:14.513471Z"
    },
    "papermill": {
     "duration": 0.054851,
     "end_time": "2020-12-01T16:02:14.513588",
     "exception": false,
     "start_time": "2020-12-01T16:02:14.458737",
     "status": "completed"
    },
    "tags": []
   },
   "outputs": [
    {
     "name": "stdout",
     "output_type": "stream",
     "text": [
      "3 BAD sentences with length between 5-30:\n",
      "\n",
      "1) Would the left be happy if all Republicans and Conservatives were deplatformed?\n",
      "2) Why are there so many self-righteous, goody two-shoes people on Quora?\n",
      "3) Why do most Palestinians support terrorism?\n"
     ]
    }
   ],
   "source": [
    "filter_and_display_data(sentences, np.asarray(targets, dtype='int'), target=1)"
   ]
  },
  {
   "cell_type": "markdown",
   "metadata": {
    "papermill": {
     "duration": 0.04556,
     "end_time": "2020-12-01T16:02:14.605105",
     "exception": false,
     "start_time": "2020-12-01T16:02:14.559545",
     "status": "completed"
    },
    "tags": []
   },
   "source": [
    "for length <= 30 - its seems our data is normally."
   ]
  },
  {
   "cell_type": "code",
   "execution_count": 17,
   "metadata": {
    "execution": {
     "iopub.execute_input": "2020-12-01T16:02:14.735460Z",
     "iopub.status.busy": "2020-12-01T16:02:14.725195Z",
     "iopub.status.idle": "2020-12-01T16:02:16.078360Z",
     "shell.execute_reply": "2020-12-01T16:02:16.077640Z"
    },
    "papermill": {
     "duration": 1.427389,
     "end_time": "2020-12-01T16:02:16.078494",
     "exception": false,
     "start_time": "2020-12-01T16:02:14.651105",
     "status": "completed"
    },
    "tags": []
   },
   "outputs": [
    {
     "name": "stdout",
     "output_type": "stream",
     "text": [
      "3 GOOD sentences with length between 120-140:\n",
      "\n",
      "1) In \"Star Trek 2013\" why did they :\n",
      "\n",
      "*Spoilers*\n",
      "*Spoilers*\n",
      "*Spoilers*\n",
      "*Spoilers*\n",
      "\n",
      "1)Make warping look quite a bit like an hyperspace jump\n",
      "2)what in the world were those bright particles as soon as they jumped.\n",
      "3)Why in the world did they make it possible for two entities to react in warp space in separate jumps.\n",
      "4)Why did Spock get emotions for this movie.\n",
      "5)What was the point of hiding the \"Enterprise\" underwater.\n",
      "6)When they were intercepted by the dark ship, how come they reached Earth when they were far away from her.(I don't seem to remember the scene where they warp to earth).\n",
      "7)How did the ship enter earth's atmosphere when it wasnt even in orbit.\n",
      "8)When Scotty opened the door of the black ship , how come pike and khan didn't slow down?\n"
     ]
    }
   ],
   "source": [
    "filter_and_display_data(sentences, np.asarray(targets, dtype='int'), target=0, min_len=120, max_len=140)"
   ]
  },
  {
   "cell_type": "code",
   "execution_count": 18,
   "metadata": {
    "execution": {
     "iopub.execute_input": "2020-12-01T16:02:16.228459Z",
     "iopub.status.busy": "2020-12-01T16:02:16.213126Z",
     "iopub.status.idle": "2020-12-01T16:02:17.820007Z",
     "shell.execute_reply": "2020-12-01T16:02:17.821290Z"
    },
    "papermill": {
     "duration": 1.694047,
     "end_time": "2020-12-01T16:02:17.821465",
     "exception": false,
     "start_time": "2020-12-01T16:02:16.127418",
     "status": "completed"
    },
    "tags": []
   },
   "outputs": [
    {
     "name": "stdout",
     "output_type": "stream",
     "text": [
      "no such sequencies found.\n"
     ]
    }
   ],
   "source": [
    "filter_and_display_data(sentences, np.asarray(targets, dtype='int'), target=1, min_len=120, max_len=140)"
   ]
  },
  {
   "cell_type": "markdown",
   "metadata": {
    "papermill": {
     "duration": 0.064641,
     "end_time": "2020-12-01T16:02:17.950478",
     "exception": false,
     "start_time": "2020-12-01T16:02:17.885837",
     "status": "completed"
    },
    "tags": []
   },
   "source": [
    "for length 120-140 its seems our data is some kind of hard - to determine its target even by human and for target = 1 we dont have any examples - so its bad for train data to dont have all kind of basic examples, but nvm."
   ]
  },
  {
   "cell_type": "code",
   "execution_count": 19,
   "metadata": {
    "execution": {
     "iopub.execute_input": "2020-12-01T16:02:18.078829Z",
     "iopub.status.busy": "2020-12-01T16:02:18.078082Z",
     "iopub.status.idle": "2020-12-01T16:08:51.059236Z",
     "shell.execute_reply": "2020-12-01T16:08:51.060036Z"
    },
    "papermill": {
     "duration": 393.053312,
     "end_time": "2020-12-01T16:08:51.060265",
     "exception": false,
     "start_time": "2020-12-01T16:02:18.006953",
     "status": "completed"
    },
    "tags": []
   },
   "outputs": [
    {
     "name": "stdout",
     "output_type": "stream",
     "text": [
      ", [-0.082752   0.67204   -0.14987   -0.064983   0.056491   0.40228\n",
      "  0.0027747 -0.3311    -0.30691    2.0817     0.031819   0.013643\n",
      "  0.30265    0.0071297 -0.5819    -0.2774    -0.062254   1.1451\n",
      " -0.24232    0.1235    -0.12243    0.33152   -0.006162  -0.30541\n",
      " -0.13057   -0.054601   0.037083  -0.070552   0.5893    -0.30385\n",
      "  0.2898    -0.14653   -0.27052    0.37161    0.32031   -0.29125\n",
      "  0.0052483 -0.13212   -0.052736   0.087349  -0.26668   -0.16897\n",
      "  0.015162  -0.0083746 -0.14871    0.23413   -0.20719   -0.091386\n",
      "  0.40075   -0.17223    0.18145    0.37586   -0.28682    0.37289\n",
      " -0.16185    0.18008    0.3032    -0.13216    0.18352    0.095759\n",
      "  0.094916   0.008289   0.11761    0.34046    0.03677   -0.29077\n",
      "  0.058303  -0.027814   0.082941   0.1862    -0.031494   0.27985\n",
      " -0.074412  -0.13762   -0.21866    0.18138    0.040855  -0.113\n",
      "  0.24107    0.3657    -0.27525   -0.05684    0.34872    0.011884\n",
      "  0.14517   -0.71395    0.48497    0.14807    0.62287    0.20599\n",
      "  0.58379   -0.13438    0.40207    0.18311    0.28021   -0.42349\n",
      " -0.25626    0.17715   -0.54095    0.16596   -0.036058   0.08499\n",
      " -0.64989    0.075549  -0.28831    0.40626   -0.2802     0.094062\n",
      "  0.32406    0.28437   -0.26341    0.11553    0.071918  -0.47215\n",
      " -0.18366   -0.34709    0.29964   -0.66514    0.002516  -0.42333\n",
      "  0.27512    0.36012    0.16311    0.23964   -0.05923    0.3261\n",
      "  0.20559    0.038677  -0.045816   0.089764   0.43151   -0.15954\n",
      "  0.08532   -0.26572   -0.15001    0.084286  -0.16714   -0.43004\n",
      "  0.060807   0.13121   -0.24112    0.66554    0.4453    -0.18019\n",
      " -0.13919    0.56252    0.21457   -0.46443   -0.012211   0.029988\n",
      " -0.051094  -0.20135    0.80788    0.47377   -0.057647   0.46216\n",
      "  0.16084   -0.20954   -0.05452    0.15572   -0.13712    0.12972\n",
      " -0.011936  -0.003378  -0.13595   -0.080711   0.20065    0.054056\n",
      "  0.046816   0.059539   0.046265   0.17754   -0.31094    0.28119\n",
      " -0.24355    0.085252  -0.21011   -0.19472    0.0027297 -0.46341\n",
      "  0.14789   -0.31517   -0.065939   0.036106   0.42903   -0.33759\n",
      "  0.16432    0.32568   -0.050392  -0.054297   0.24074    0.41923\n",
      "  0.13012   -0.17167   -0.37808   -0.23089   -0.019477  -0.29291\n",
      " -0.30824    0.30297   -0.22659    0.081574  -0.18516   -0.21408\n",
      "  0.40616   -0.28974    0.074174  -0.17795    0.28595   -0.039626\n",
      " -0.2339    -0.36054   -0.067503  -0.091065   0.23438   -0.0041331\n",
      "  0.003232   0.0072134  0.008697   0.21614    0.049904   0.35582\n",
      "  0.13748    0.073361   0.14166    0.2412    -0.013322   0.15613\n",
      "  0.083381   0.088146  -0.019357   0.43795    0.083961   0.45309\n",
      " -0.50489   -0.10865   -0.2527    -0.18251    0.20441    0.13319\n",
      "  0.1294     0.050594  -0.15612   -0.39543    0.12538    0.24881\n",
      " -0.1927    -0.31847   -0.12719    0.4341     0.31177   -0.0040946\n",
      " -0.2094    -0.079961   0.1161    -0.050794   0.015266  -0.2803\n",
      " -0.12486    0.23587    0.2339    -0.14023    0.028462   0.56923\n",
      " -0.1649    -0.036429   0.010051  -0.17107   -0.042608   0.044965\n",
      " -0.4393    -0.26137    0.30088   -0.060772  -0.45312   -0.19076\n",
      " -0.20288    0.27694   -0.060888   0.11944    0.62206   -0.19343\n",
      "  0.47849   -0.30113    0.059389   0.074901   0.061068  -0.4662\n",
      "  0.40054   -0.19099   -0.14331    0.018267  -0.18643    0.20709\n",
      " -0.35598    0.05338   -0.050821  -0.1918    -0.37846   -0.06589  ]\n",
      ". [ 0.012001   0.20751   -0.12578   -0.59325    0.12525    0.15975\n",
      "  0.13748   -0.33157   -0.13694    1.7893    -0.47094    0.70434\n",
      "  0.26673   -0.089961  -0.18168    0.067226   0.053347   1.5595\n",
      " -0.2541     0.038413  -0.01409    0.056774   0.023434   0.024042\n",
      "  0.31703    0.19025   -0.37505    0.035603   0.1181     0.012032\n",
      " -0.037566  -0.5046    -0.049261   0.092351   0.11031   -0.073062\n",
      "  0.33994    0.28239    0.13413    0.070128  -0.022099  -0.28103\n",
      "  0.49607   -0.48693   -0.090964  -0.1538    -0.38011   -0.014228\n",
      " -0.19392   -0.11068   -0.014088  -0.17906    0.24509   -0.16878\n",
      " -0.15351   -0.13808    0.02151    0.13699    0.0068061 -0.14915\n",
      " -0.38169    0.12727    0.44007    0.32678   -0.46117    0.068687\n",
      "  0.34747    0.18827   -0.31837    0.4447    -0.2095    -0.26987\n",
      "  0.48945    0.15388    0.05295   -0.049831   0.11207    0.14881\n",
      " -0.37003    0.30777   -0.33865    0.045149  -0.18987    0.26634\n",
      " -0.26401   -0.47556    0.68381   -0.30653    0.24606    0.31611\n",
      " -0.071098   0.030417   0.088119   0.045025   0.20125   -0.21618\n",
      " -0.36371   -0.25948   -0.42398   -0.14305   -0.10208    0.21498\n",
      " -0.21924   -0.17935    0.21546    0.13801    0.24504   -0.2559\n",
      "  0.054815   0.21307    0.2564    -0.25673    0.17961   -0.47638\n",
      " -0.25181   -0.0091498 -0.054362  -0.21007    0.12597   -0.40795\n",
      " -0.021164   0.20585    0.18925   -0.0051896 -0.51394    0.28862\n",
      " -0.077748  -0.27676    0.46567   -0.14225   -0.17879   -0.4357\n",
      " -0.32481    0.15034   -0.058367   0.49652    0.20472    0.019866\n",
      "  0.13326    0.12823   -1.0177     0.29007    0.28995    0.029994\n",
      " -0.10763    0.28665   -0.24387    0.22905   -0.26249   -0.069269\n",
      " -0.17889    0.21936    0.15146    0.04567   -0.050497   0.071482\n",
      " -0.1027    -0.080705   0.30296    0.031302   0.26613   -0.0060951\n",
      "  0.10313   -0.39987   -0.043945  -0.057625   0.08702   -0.098152\n",
      "  0.22835   -0.005211   0.038075   0.01591   -0.20622    0.021853\n",
      "  0.0040426 -0.043063  -0.002294  -0.26097   -0.25802   -0.28158\n",
      " -0.23118   -0.010404  -0.30102   -0.4042     0.014653  -0.10445\n",
      "  0.30377   -0.20957    0.3119     0.068272   0.1008     0.010423\n",
      "  0.54011    0.29865    0.12653    0.013761   0.21738   -0.39521\n",
      "  0.066633   0.50327    0.14913   -0.11554    0.010042   0.095698\n",
      "  0.16607   -0.18808    0.055019   0.026715  -0.3164    -0.046583\n",
      " -0.051591   0.023475  -0.11007    0.085642   0.28394    0.040497\n",
      "  0.071986   0.14157   -0.021199   0.44718    0.20088   -0.12964\n",
      " -0.067183   0.47614    0.13394   -0.17287   -0.37324   -0.17285\n",
      "  0.02683   -0.1316     0.09116   -0.46487    0.1274    -0.090159\n",
      " -0.10552    0.068006  -0.13381    0.17056    0.089509  -0.23133\n",
      " -0.27572    0.061534  -0.051646   0.28377    0.25286   -0.24139\n",
      " -0.19905    0.12049   -0.1011     0.27392    0.27843    0.26449\n",
      " -0.18292   -0.048961   0.19198    0.17192    0.33659   -0.20184\n",
      " -0.34305   -0.24553   -0.15399    0.3945     0.22839   -0.25753\n",
      " -0.25675   -0.37332   -0.23884   -0.048816   0.78323    0.18851\n",
      " -0.26477    0.096566   0.062658  -0.30668   -0.43334    0.10006\n",
      "  0.21136    0.039459  -0.11077    0.24421    0.60942   -0.46646\n",
      "  0.086385  -0.39702   -0.23363    0.021307  -0.10778   -0.2281\n",
      "  0.50803    0.11567    0.16165   -0.066737  -0.29556    0.022612\n",
      " -0.28135    0.0635     0.14019    0.13871   -0.36049   -0.035    ]\n"
     ]
    }
   ],
   "source": [
    "# reads and returns dictionary - key: word; value: word's embedding vector (vec. length=300)\n",
    "def confnigure_embeddings(embd_path):\n",
    "    word2vecs = {}\n",
    "    with ZipFile('/kaggle/input/quora-insincere-questions-classification/embeddings.zip') as embd_zip:\n",
    "        for embd in embd_zip.open(embd_path, 'r'):\n",
    "            word2vec = embd.decode().split(' ')\n",
    "            word2vecs[word2vec[0]] = np.asarray(word2vec[1:], dtype='float32')\n",
    "    return word2vecs\n",
    "            \n",
    "word2vecs = confnigure_embeddings('glove.840B.300d/glove.840B.300d.txt')\n",
    "DEBUG_DICTIONARY(word2vecs, limit=1)"
   ]
  },
  {
   "cell_type": "code",
   "execution_count": 20,
   "metadata": {
    "execution": {
     "iopub.execute_input": "2020-12-01T16:08:51.172346Z",
     "iopub.status.busy": "2020-12-01T16:08:51.171545Z",
     "iopub.status.idle": "2020-12-01T16:08:51.174112Z",
     "shell.execute_reply": "2020-12-01T16:08:51.174670Z"
    },
    "papermill": {
     "duration": 0.059591,
     "end_time": "2020-12-01T16:08:51.174790",
     "exception": false,
     "start_time": "2020-12-01T16:08:51.115199",
     "status": "completed"
    },
    "tags": []
   },
   "outputs": [],
   "source": [
    "# in each sentence replaces words with its own embedding vectors \n",
    "def configure_word2vecs(sentences, word2vecs):\n",
    "    def configure_sentence(sentence, len=HIDDEN_SIZE):\n",
    "        return ([word2vecs.get(word.lower(), np.zeros(300)) for word in sentence.split()] + [np.zeros(300)]*len)[:len] \n",
    "    \n",
    "    return [configure_sentence(sentence) for sentence in sentences]\n",
    "\n",
    "# embedding_sentences = configure_word2vecs(sentences, word2vecs)\n",
    "# print(embedding_sentences[:10])"
   ]
  },
  {
   "cell_type": "markdown",
   "metadata": {
    "papermill": {
     "duration": 0.048018,
     "end_time": "2020-12-01T16:08:51.270592",
     "exception": false,
     "start_time": "2020-12-01T16:08:51.222574",
     "status": "completed"
    },
    "tags": []
   },
   "source": [
    "**START WORKING ON MODEL**"
   ]
  },
  {
   "cell_type": "code",
   "execution_count": 21,
   "metadata": {
    "execution": {
     "iopub.execute_input": "2020-12-01T16:08:51.384964Z",
     "iopub.status.busy": "2020-12-01T16:08:51.384357Z",
     "iopub.status.idle": "2020-12-01T16:08:53.036988Z",
     "shell.execute_reply": "2020-12-01T16:08:53.036091Z"
    },
    "papermill": {
     "duration": 1.718932,
     "end_time": "2020-12-01T16:08:53.037101",
     "exception": false,
     "start_time": "2020-12-01T16:08:51.318169",
     "status": "completed"
    },
    "tags": []
   },
   "outputs": [],
   "source": [
    "import torch\n",
    "import torch.nn as nn\n",
    "\n",
    "import seaborn as sns\n",
    "import numpy as np\n",
    "import pandas as pd"
   ]
  },
  {
   "cell_type": "code",
   "execution_count": 22,
   "metadata": {
    "execution": {
     "iopub.execute_input": "2020-12-01T16:08:53.188766Z",
     "iopub.status.busy": "2020-12-01T16:08:53.187333Z",
     "iopub.status.idle": "2020-12-01T16:08:53.194386Z",
     "shell.execute_reply": "2020-12-01T16:08:53.193305Z"
    },
    "papermill": {
     "duration": 0.099558,
     "end_time": "2020-12-01T16:08:53.194550",
     "exception": false,
     "start_time": "2020-12-01T16:08:53.094992",
     "status": "completed"
    },
    "tags": []
   },
   "outputs": [],
   "source": [
    "BATCH_SIZE = 256\n",
    "BATCHES = (len(sentences)+BATCH_SIZE-1)//BATCH_SIZE\n",
    "\n",
    "EPOCHS = 2 # gpu :(\n",
    "EMBD_SIZE = 300"
   ]
  },
  {
   "cell_type": "code",
   "execution_count": 23,
   "metadata": {
    "execution": {
     "iopub.execute_input": "2020-12-01T16:08:53.773309Z",
     "iopub.status.busy": "2020-12-01T16:08:53.770554Z",
     "iopub.status.idle": "2020-12-01T16:08:53.781867Z",
     "shell.execute_reply": "2020-12-01T16:08:53.782599Z"
    },
    "papermill": {
     "duration": 0.504736,
     "end_time": "2020-12-01T16:08:53.782827",
     "exception": false,
     "start_time": "2020-12-01T16:08:53.278091",
     "status": "completed"
    },
    "tags": []
   },
   "outputs": [
    {
     "data": {
      "text/plain": [
       "(device(type='cuda'), True)"
      ]
     },
     "execution_count": 23,
     "metadata": {},
     "output_type": "execute_result"
    }
   ],
   "source": [
    "gpu = torch.device(\"cuda\" if torch.cuda.is_available() else \"cpu\")\n",
    "gpu, torch.cuda.is_available()"
   ]
  },
  {
   "cell_type": "code",
   "execution_count": 24,
   "metadata": {
    "execution": {
     "iopub.execute_input": "2020-12-01T16:08:53.890062Z",
     "iopub.status.busy": "2020-12-01T16:08:53.889295Z",
     "iopub.status.idle": "2020-12-01T16:08:53.892261Z",
     "shell.execute_reply": "2020-12-01T16:08:53.891772Z"
    },
    "papermill": {
     "duration": 0.059873,
     "end_time": "2020-12-01T16:08:53.892358",
     "exception": false,
     "start_time": "2020-12-01T16:08:53.832485",
     "status": "completed"
    },
    "tags": []
   },
   "outputs": [],
   "source": [
    "# long short-term memory is best suit for this case i think - as we got 1M+ train data and embedding vectors with length 300, \n",
    "# if we just convert evrything once in tensors we need more than 16gb ram and much more resources to train this data.\n",
    "# also use linear layer should be good enough as there is no hard dependences - as if sentence contains 'bad' word its target is most likly 1.\n",
    "# dropout layer would be good also - but as we are using only one lstm layer bc of cpu - we dont...\n",
    "\n",
    "class LSTM(nn.Module):\n",
    "    def __init__(self, input_dim=1, emb_dim=EMBD_SIZE, hid_dim=HIDDEN_SIZE, n_layers=1, output_dim=1, dropout=0.3):\n",
    "        super().__init__()\n",
    "        self.hid_dim, self.n_layers = hid_dim, n_layers\n",
    "        \n",
    "        # nn's\n",
    "        self.lstm = nn.LSTM(emb_dim, hid_dim, n_layers, batch_first=True)\n",
    "        self.linear = nn.Linear(hid_dim, output_dim)\n",
    "        \n",
    "        ### NOTE ### for dropout lstm layers has to be more than 1 - but bc of my code works only cpu i got one layer :( so it doesn't works...\n",
    "#         self.dropout = nn.Dropout(dropout)\n",
    "        \n",
    "        \n",
    "    def forward(self, src):\n",
    "        outputs, (hidden, cell) = self.lstm(src)\n",
    "        return self.linear(hidden.reshape(-1, self.hid_dim))\n"
   ]
  },
  {
   "cell_type": "code",
   "execution_count": 25,
   "metadata": {
    "execution": {
     "iopub.execute_input": "2020-12-01T16:08:54.020245Z",
     "iopub.status.busy": "2020-12-01T16:08:54.019363Z",
     "iopub.status.idle": "2020-12-01T16:08:59.285863Z",
     "shell.execute_reply": "2020-12-01T16:08:59.285287Z"
    },
    "papermill": {
     "duration": 5.343895,
     "end_time": "2020-12-01T16:08:59.285991",
     "exception": false,
     "start_time": "2020-12-01T16:08:53.942096",
     "status": "completed"
    },
    "tags": []
   },
   "outputs": [],
   "source": [
    "# craete model - with lstm and linear layers\n",
    "model = LSTM().to(gpu)\n",
    "\n",
    "# init loss function\n",
    "loss_function = nn.BCEWithLogitsLoss().to(gpu) #nn.MSELoss()\n",
    "\n",
    "# init optimizer with learning rate 0.001\n",
    "optimizer = torch.optim.Adam(model.parameters(), lr=0.001)"
   ]
  },
  {
   "cell_type": "code",
   "execution_count": 26,
   "metadata": {
    "execution": {
     "iopub.execute_input": "2020-12-01T16:08:59.389416Z",
     "iopub.status.busy": "2020-12-01T16:08:59.388651Z",
     "iopub.status.idle": "2020-12-01T16:08:59.391796Z",
     "shell.execute_reply": "2020-12-01T16:08:59.392335Z"
    },
    "papermill": {
     "duration": 0.057047,
     "end_time": "2020-12-01T16:08:59.392453",
     "exception": false,
     "start_time": "2020-12-01T16:08:59.335406",
     "status": "completed"
    },
    "tags": []
   },
   "outputs": [
    {
     "data": {
      "text/plain": [
       "LSTM(\n",
       "  (lstm): LSTM(300, 30, batch_first=True)\n",
       "  (linear): Linear(in_features=30, out_features=1, bias=True)\n",
       ")"
      ]
     },
     "execution_count": 26,
     "metadata": {},
     "output_type": "execute_result"
    }
   ],
   "source": [
    "model"
   ]
  },
  {
   "cell_type": "code",
   "execution_count": 27,
   "metadata": {
    "execution": {
     "iopub.execute_input": "2020-12-01T16:08:59.511343Z",
     "iopub.status.busy": "2020-12-01T16:08:59.510297Z",
     "iopub.status.idle": "2020-12-01T16:08:59.513683Z",
     "shell.execute_reply": "2020-12-01T16:08:59.512995Z"
    },
    "papermill": {
     "duration": 0.071713,
     "end_time": "2020-12-01T16:08:59.513822",
     "exception": false,
     "start_time": "2020-12-01T16:08:59.442109",
     "status": "completed"
    },
    "tags": []
   },
   "outputs": [],
   "source": [
    "# evaluates and returns accuracy for predicted Y by model \n",
    "def acc_function(y_pred, y_test):\n",
    "    y_pred = torch.round(torch.sigmoid(y_pred).to(gpu)).to(gpu)\n",
    "    correct = (y_pred == y_test).sum().float()\n",
    "    return torch.round(100*(correct/y_pred.shape[0]))\n",
    "\n",
    "# generates and returns idx-th batch as torch tensor according to given data(sentences and targets)\n",
    "def get_batch(sentences, targets, idx):\n",
    "    src = configure_word2vecs(sentences[BATCH_SIZE*idx:BATCH_SIZE*(idx+1)], word2vecs)\n",
    "    trg = np.asarray(targets[BATCH_SIZE*idx:BATCH_SIZE*(idx+1)], dtype='bool')\n",
    "    return torch.FloatTensor(src).to(gpu), torch.FloatTensor(trg).to(gpu)\n",
    "\n",
    "# evaluates and returns f1 score for predicted Y by model \n",
    "def f1_score(y_pred, y_test):\n",
    "    tp = (y_test * y_pred).sum().to(torch.float32)\n",
    "    tn = ((1 - y_test) * (1 - y_pred)).sum().to(torch.float32)\n",
    "    fp = ((1 - y_test) * y_pred).sum().to(torch.float32)\n",
    "    fn = (y_test * (1 - y_pred)).sum().to(torch.float32)\n",
    "    \n",
    "    epsilon = 1e-7 # for avoid crash\n",
    "    precision, recall = tp / (tp + fp + epsilon), tp / (tp + fn + epsilon)\n",
    "    \n",
    "    return 2*(precision*recall)/(precision + recall + epsilon)\n",
    "    "
   ]
  },
  {
   "cell_type": "markdown",
   "metadata": {
    "papermill": {
     "duration": 0.050046,
     "end_time": "2020-12-01T16:08:59.614767",
     "exception": false,
     "start_time": "2020-12-01T16:08:59.564721",
     "status": "completed"
    },
    "tags": []
   },
   "source": [
    "**START TRAINING OF MODEL**"
   ]
  },
  {
   "cell_type": "code",
   "execution_count": 28,
   "metadata": {
    "execution": {
     "iopub.execute_input": "2020-12-01T16:08:59.722685Z",
     "iopub.status.busy": "2020-12-01T16:08:59.721883Z",
     "iopub.status.idle": "2020-12-01T16:09:05.087624Z",
     "shell.execute_reply": "2020-12-01T16:09:05.087126Z"
    },
    "papermill": {
     "duration": 5.423098,
     "end_time": "2020-12-01T16:09:05.087733",
     "exception": false,
     "start_time": "2020-12-01T16:08:59.664635",
     "status": "completed"
    },
    "tags": []
   },
   "outputs": [
    {
     "name": "stdout",
     "output_type": "stream",
     "text": [
      "<class 'torch.Tensor'> torch.Size([2560, 30, 300]) <class 'pandas.core.series.Series'> (261225,)\n"
     ]
    }
   ],
   "source": [
    "# ready for training\n",
    "model.train()\n",
    "\n",
    "VALIDATION_BATCHES = 10\n",
    "# init validation data for accuracy while training - but taking only VALIDATION_BATCHES while whole data is too big.\n",
    "val_sents = configure_word2vecs(val_sentences[:VALIDATION_BATCHES*BATCH_SIZE], word2vecs)\n",
    "val_targs = np.asarray(val_targets[:VALIDATION_BATCHES*BATCH_SIZE], dtype='bool')\n",
    "\n",
    "val_batch = torch.FloatTensor(val_sents).to(gpu)\n",
    "val_target = torch.FloatTensor(val_targs).to(gpu)\n",
    "print(type(val_batch), val_batch.shape, type(val_targets), val_targets.shape)"
   ]
  },
  {
   "cell_type": "code",
   "execution_count": 29,
   "metadata": {
    "execution": {
     "iopub.execute_input": "2020-12-01T16:09:05.200880Z",
     "iopub.status.busy": "2020-12-01T16:09:05.199985Z",
     "iopub.status.idle": "2020-12-01T16:09:06.236193Z",
     "shell.execute_reply": "2020-12-01T16:09:06.236700Z"
    },
    "papermill": {
     "duration": 1.095377,
     "end_time": "2020-12-01T16:09:06.236851",
     "exception": false,
     "start_time": "2020-12-01T16:09:05.141474",
     "status": "completed"
    },
    "tags": []
   },
   "outputs": [
    {
     "data": {
      "text/plain": [
       "(4082, 256, torch.Size([256, 30, 300]), torch.Size([256]))"
      ]
     },
     "execution_count": 29,
     "metadata": {},
     "output_type": "execute_result"
    }
   ],
   "source": [
    "BATCHES, BATCH_SIZE, get_batch(sentences, targets, 0)[0].shape, get_batch(sentences, targets, 0)[1].shape"
   ]
  },
  {
   "cell_type": "code",
   "execution_count": 30,
   "metadata": {
    "execution": {
     "iopub.execute_input": "2020-12-01T16:09:06.352374Z",
     "iopub.status.busy": "2020-12-01T16:09:06.351494Z",
     "iopub.status.idle": "2020-12-01T17:22:23.221763Z",
     "shell.execute_reply": "2020-12-01T17:22:23.222538Z"
    },
    "papermill": {
     "duration": 4396.934185,
     "end_time": "2020-12-01T17:22:23.222748",
     "exception": false,
     "start_time": "2020-12-01T16:09:06.288563",
     "status": "completed"
    },
    "tags": []
   },
   "outputs": [
    {
     "name": "stdout",
     "output_type": "stream",
     "text": [
      "Epoch 001 | Batch 0001: | Loss: 0.65673 | Acc: 94.000 | F1: 0.619\n",
      "Epoch 001 | Batch 0100: | Loss: 0.36776 | Acc: 94.000 | F1: 0.130\n",
      "Epoch 001 | Batch 0200: | Loss: 0.29554 | Acc: 94.000 | F1: 0.108\n",
      "Epoch 001 | Batch 0300: | Loss: 0.25834 | Acc: 93.980 | F1: 0.044\n",
      "Epoch 001 | Batch 0400: | Loss: 0.23097 | Acc: 93.985 | F1: 0.035\n",
      "Epoch 001 | Batch 0500: | Loss: 0.21250 | Acc: 93.994 | F1: 0.032\n",
      "Epoch 001 | Batch 0600: | Loss: 0.20035 | Acc: 94.010 | F1: 0.028\n",
      "Epoch 001 | Batch 0700: | Loss: 0.19125 | Acc: 94.041 | F1: 0.031\n",
      "Epoch 001 | Batch 0800: | Loss: 0.18470 | Acc: 94.058 | F1: 0.021\n",
      "Epoch 001 | Batch 0900: | Loss: 0.17898 | Acc: 94.051 | F1: 0.025\n",
      "Epoch 001 | Batch 1000: | Loss: 0.17399 | Acc: 94.083 | F1: 0.032\n",
      "Epoch 001 | Batch 1100: | Loss: 0.17013 | Acc: 94.115 | F1: 0.033\n",
      "Epoch 001 | Batch 1200: | Loss: 0.16690 | Acc: 94.147 | F1: 0.026\n",
      "Epoch 001 | Batch 1300: | Loss: 0.16423 | Acc: 94.186 | F1: 0.026\n",
      "Epoch 001 | Batch 1400: | Loss: 0.16151 | Acc: 94.209 | F1: 0.026\n",
      "Epoch 001 | Batch 1500: | Loss: 0.15911 | Acc: 94.241 | F1: 0.018\n",
      "Epoch 001 | Batch 1600: | Loss: 0.15717 | Acc: 94.266 | F1: 0.021\n",
      "Epoch 001 | Batch 1700: | Loss: 0.15533 | Acc: 94.286 | F1: 0.029\n",
      "Epoch 001 | Batch 1800: | Loss: 0.15343 | Acc: 94.308 | F1: 0.026\n",
      "Epoch 001 | Batch 1900: | Loss: 0.15203 | Acc: 94.337 | F1: 0.021\n",
      "Epoch 001 | Batch 2000: | Loss: 0.15072 | Acc: 94.359 | F1: 0.015\n",
      "Epoch 001 | Batch 2100: | Loss: 0.14943 | Acc: 94.376 | F1: 0.012\n",
      "Epoch 001 | Batch 2200: | Loss: 0.14818 | Acc: 94.397 | F1: 0.022\n",
      "Epoch 001 | Batch 2300: | Loss: 0.14710 | Acc: 94.417 | F1: 0.011\n",
      "Epoch 001 | Batch 2400: | Loss: 0.14596 | Acc: 94.429 | F1: 0.025\n",
      "Epoch 001 | Batch 2500: | Loss: 0.14511 | Acc: 94.450 | F1: 0.022\n",
      "Epoch 001 | Batch 2600: | Loss: 0.14413 | Acc: 94.469 | F1: 0.017\n",
      "Epoch 001 | Batch 2700: | Loss: 0.14345 | Acc: 94.481 | F1: 0.015\n",
      "Epoch 001 | Batch 2800: | Loss: 0.14256 | Acc: 94.499 | F1: 0.021\n",
      "Epoch 001 | Batch 2900: | Loss: 0.14193 | Acc: 94.517 | F1: 0.020\n",
      "Epoch 001 | Batch 3000: | Loss: 0.14133 | Acc: 94.531 | F1: 0.022\n",
      "Epoch 001 | Batch 3100: | Loss: 0.14069 | Acc: 94.544 | F1: 0.013\n",
      "Epoch 001 | Batch 3200: | Loss: 0.14005 | Acc: 94.556 | F1: 0.012\n",
      "Epoch 001 | Batch 3300: | Loss: 0.13965 | Acc: 94.569 | F1: 0.016\n",
      "Epoch 001 | Batch 3400: | Loss: 0.13922 | Acc: 94.582 | F1: 0.019\n",
      "Epoch 001 | Batch 3500: | Loss: 0.13872 | Acc: 94.593 | F1: 0.015\n",
      "Epoch 001 | Batch 3600: | Loss: 0.13823 | Acc: 94.605 | F1: 0.016\n",
      "Epoch 001 | Batch 3700: | Loss: 0.13787 | Acc: 94.614 | F1: 0.020\n",
      "Epoch 001 | Batch 3800: | Loss: 0.13741 | Acc: 94.624 | F1: 0.018\n",
      "Epoch 001 | Batch 3900: | Loss: 0.13704 | Acc: 94.634 | F1: 0.012\n",
      "Epoch 001 | Batch 4000: | Loss: 0.13659 | Acc: 94.643 | F1: 0.014\n",
      "Epoch 001: | Epoch Loss: 0.13629 | Epoch Acc: 94.650\n",
      "Epoch 002 | Batch 0001: | Loss: 0.10804 | Acc: 95.000 | F1: 0.022\n",
      "Epoch 002 | Batch 0100: | Loss: 0.11453 | Acc: 94.980 | F1: 0.007\n",
      "Epoch 002 | Batch 0200: | Loss: 0.11625 | Acc: 94.985 | F1: 0.022\n",
      "Epoch 002 | Batch 0300: | Loss: 0.11798 | Acc: 94.957 | F1: 0.010\n",
      "Epoch 002 | Batch 0400: | Loss: 0.11717 | Acc: 94.968 | F1: 0.018\n",
      "Epoch 002 | Batch 0500: | Loss: 0.11660 | Acc: 94.974 | F1: 0.013\n",
      "Epoch 002 | Batch 0600: | Loss: 0.11691 | Acc: 94.978 | F1: 0.010\n",
      "Epoch 002 | Batch 0700: | Loss: 0.11750 | Acc: 94.986 | F1: 0.015\n",
      "Epoch 002 | Batch 0800: | Loss: 0.11800 | Acc: 94.987 | F1: 0.005\n",
      "Epoch 002 | Batch 0900: | Loss: 0.11811 | Acc: 94.986 | F1: 0.014\n",
      "Epoch 002 | Batch 1000: | Loss: 0.11784 | Acc: 94.987 | F1: 0.018\n",
      "Epoch 002 | Batch 1100: | Loss: 0.11787 | Acc: 94.988 | F1: 0.017\n",
      "Epoch 002 | Batch 1200: | Loss: 0.11796 | Acc: 94.989 | F1: 0.012\n",
      "Epoch 002 | Batch 1300: | Loss: 0.11810 | Acc: 94.990 | F1: 0.017\n",
      "Epoch 002 | Batch 1400: | Loss: 0.11771 | Acc: 94.991 | F1: 0.015\n",
      "Epoch 002 | Batch 1500: | Loss: 0.11756 | Acc: 94.991 | F1: 0.010\n",
      "Epoch 002 | Batch 1600: | Loss: 0.11750 | Acc: 94.992 | F1: 0.011\n",
      "Epoch 002 | Batch 1700: | Loss: 0.11745 | Acc: 94.992 | F1: 0.021\n",
      "Epoch 002 | Batch 1800: | Loss: 0.11715 | Acc: 94.993 | F1: 0.018\n",
      "Epoch 002 | Batch 1900: | Loss: 0.11715 | Acc: 94.993 | F1: 0.014\n",
      "Epoch 002 | Batch 2000: | Loss: 0.11713 | Acc: 94.993 | F1: 0.012\n",
      "Epoch 002 | Batch 2100: | Loss: 0.11702 | Acc: 94.994 | F1: 0.007\n",
      "Epoch 002 | Batch 2200: | Loss: 0.11688 | Acc: 94.994 | F1: 0.013\n",
      "Epoch 002 | Batch 2300: | Loss: 0.11681 | Acc: 94.997 | F1: 0.007\n",
      "Epoch 002 | Batch 2400: | Loss: 0.11661 | Acc: 94.996 | F1: 0.020\n",
      "Epoch 002 | Batch 2500: | Loss: 0.11664 | Acc: 94.996 | F1: 0.015\n",
      "Epoch 002 | Batch 2600: | Loss: 0.11648 | Acc: 94.994 | F1: 0.013\n",
      "Epoch 002 | Batch 2700: | Loss: 0.11652 | Acc: 94.994 | F1: 0.010\n",
      "Epoch 002 | Batch 2800: | Loss: 0.11634 | Acc: 94.995 | F1: 0.016\n",
      "Epoch 002 | Batch 2900: | Loss: 0.11639 | Acc: 94.995 | F1: 0.012\n",
      "Epoch 002 | Batch 3000: | Loss: 0.11640 | Acc: 94.995 | F1: 0.013\n",
      "Epoch 002 | Batch 3100: | Loss: 0.11634 | Acc: 94.995 | F1: 0.009\n",
      "Epoch 002 | Batch 3200: | Loss: 0.11623 | Acc: 94.997 | F1: 0.008\n",
      "Epoch 002 | Batch 3300: | Loss: 0.11633 | Acc: 95.003 | F1: 0.013\n",
      "Epoch 002 | Batch 3400: | Loss: 0.11639 | Acc: 95.003 | F1: 0.015\n",
      "Epoch 002 | Batch 3500: | Loss: 0.11635 | Acc: 95.003 | F1: 0.011\n",
      "Epoch 002 | Batch 3600: | Loss: 0.11632 | Acc: 95.003 | F1: 0.012\n",
      "Epoch 002 | Batch 3700: | Loss: 0.11637 | Acc: 95.003 | F1: 0.016\n",
      "Epoch 002 | Batch 3800: | Loss: 0.11631 | Acc: 95.003 | F1: 0.017\n",
      "Epoch 002 | Batch 3900: | Loss: 0.11631 | Acc: 95.003 | F1: 0.009\n",
      "Epoch 002 | Batch 4000: | Loss: 0.11624 | Acc: 95.003 | F1: 0.010\n",
      "Epoch 002: | Epoch Loss: 0.11623 | Epoch Acc: 95.003\n"
     ]
    }
   ],
   "source": [
    "# training\n",
    "for e in range(EPOCHS):\n",
    "    # save epoch loss and accuracy\n",
    "    epoch_loss, epoch_acc = 0, 0\n",
    "    for b in range(BATCHES):\n",
    "        # get current batch from data\n",
    "        X_batch, y_batch = get_batch(sentences, targets, b)\n",
    "        \n",
    "        # set the gradients to zero, before starting to do backpropragation - avoiding gradient miss direction for minimum. \n",
    "        optimizer.zero_grad()\n",
    "\n",
    "        # predict targets for current batch and learn by comparing it to real targets with loss func.\n",
    "        y_pred = model(X_batch)\n",
    "        loss = loss_function(y_pred, y_batch.unsqueeze(1))\n",
    "        \n",
    "        # predict targets for validation data and eval. accuracy\n",
    "        val_pred = model(val_batch)\n",
    "        acc = acc_function(val_pred, val_target.unsqueeze(1))\n",
    "\n",
    "        # gradients are \"stored\" by the tensors themselves - once call backward on the loss.\n",
    "        loss.backward()\n",
    "        \n",
    "        # updates the model parameters\n",
    "        optimizer.step()\n",
    "        \n",
    "        # add batch loss and acc to evaluate epoch loss/acc\n",
    "        epoch_loss += loss.item()\n",
    "        epoch_acc += acc.item()\n",
    "        \n",
    "        if b == 0 or (b+1) % 100 == 0:\n",
    "            print(f'Epoch {(e+1)+0:03} | Batch {(b+1)+0:04}: | Loss: {epoch_loss/(b+1):.5f} | Acc: {epoch_acc/(b+1):.3f} | F1: {f1_score(val_pred, val_target.unsqueeze(1)):.3f}')\n",
    "            # print(next(model.parameters()).is_cuda, X_batch.get_device(), y_batch.get_device(), y_pred.get_device(), val_pred.get_device())\n",
    "\n",
    "    print(f'Epoch {(e+1)+0:03}: | Epoch Loss: {epoch_loss/BATCHES:.5f} | Epoch Acc: {epoch_acc/BATCHES:.3f}')"
   ]
  },
  {
   "cell_type": "markdown",
   "metadata": {
    "papermill": {
     "duration": 0.079902,
     "end_time": "2020-12-01T17:22:23.383920",
     "exception": false,
     "start_time": "2020-12-01T17:22:23.304018",
     "status": "completed"
    },
    "tags": []
   },
   "source": [
    "**START WORKING ON TEST DATA**"
   ]
  },
  {
   "cell_type": "code",
   "execution_count": 31,
   "metadata": {
    "execution": {
     "iopub.execute_input": "2020-12-01T17:22:23.552479Z",
     "iopub.status.busy": "2020-12-01T17:22:23.551886Z",
     "iopub.status.idle": "2020-12-01T17:22:24.382105Z",
     "shell.execute_reply": "2020-12-01T17:22:24.381281Z"
    },
    "papermill": {
     "duration": 0.918038,
     "end_time": "2020-12-01T17:22:24.382259",
     "exception": false,
     "start_time": "2020-12-01T17:22:23.464221",
     "status": "completed"
    },
    "tags": []
   },
   "outputs": [],
   "source": [
    "# init test data\n",
    "test_data = pd.read_csv('/kaggle/input/quora-insincere-questions-classification/test.csv')\n",
    "sentences, targets = test_data['question_text'], []\n",
    "TEST_BATCHES = (len(sentences)+BATCH_SIZE-1)//BATCH_SIZE"
   ]
  },
  {
   "cell_type": "code",
   "execution_count": 32,
   "metadata": {
    "execution": {
     "iopub.execute_input": "2020-12-01T17:22:24.643096Z",
     "iopub.status.busy": "2020-12-01T17:22:24.641784Z",
     "iopub.status.idle": "2020-12-01T17:22:24.649628Z",
     "shell.execute_reply": "2020-12-01T17:22:24.651123Z"
    },
    "papermill": {
     "duration": 0.140789,
     "end_time": "2020-12-01T17:22:24.651284",
     "exception": false,
     "start_time": "2020-12-01T17:22:24.510495",
     "status": "completed"
    },
    "tags": []
   },
   "outputs": [
    {
     "data": {
      "text/html": [
       "<div>\n",
       "<style scoped>\n",
       "    .dataframe tbody tr th:only-of-type {\n",
       "        vertical-align: middle;\n",
       "    }\n",
       "\n",
       "    .dataframe tbody tr th {\n",
       "        vertical-align: top;\n",
       "    }\n",
       "\n",
       "    .dataframe thead th {\n",
       "        text-align: right;\n",
       "    }\n",
       "</style>\n",
       "<table border=\"1\" class=\"dataframe\">\n",
       "  <thead>\n",
       "    <tr style=\"text-align: right;\">\n",
       "      <th></th>\n",
       "      <th>qid</th>\n",
       "      <th>question_text</th>\n",
       "    </tr>\n",
       "  </thead>\n",
       "  <tbody>\n",
       "    <tr>\n",
       "      <th>0</th>\n",
       "      <td>0000163e3ea7c7a74cd7</td>\n",
       "      <td>Why do so many women become so rude and arroga...</td>\n",
       "    </tr>\n",
       "    <tr>\n",
       "      <th>1</th>\n",
       "      <td>00002bd4fb5d505b9161</td>\n",
       "      <td>When should I apply for RV college of engineer...</td>\n",
       "    </tr>\n",
       "    <tr>\n",
       "      <th>2</th>\n",
       "      <td>00007756b4a147d2b0b3</td>\n",
       "      <td>What is it really like to be a nurse practitio...</td>\n",
       "    </tr>\n",
       "    <tr>\n",
       "      <th>3</th>\n",
       "      <td>000086e4b7e1c7146103</td>\n",
       "      <td>Who are entrepreneurs?</td>\n",
       "    </tr>\n",
       "    <tr>\n",
       "      <th>4</th>\n",
       "      <td>0000c4c3fbe8785a3090</td>\n",
       "      <td>Is education really making good people nowadays?</td>\n",
       "    </tr>\n",
       "  </tbody>\n",
       "</table>\n",
       "</div>"
      ],
      "text/plain": [
       "                    qid                                      question_text\n",
       "0  0000163e3ea7c7a74cd7  Why do so many women become so rude and arroga...\n",
       "1  00002bd4fb5d505b9161  When should I apply for RV college of engineer...\n",
       "2  00007756b4a147d2b0b3  What is it really like to be a nurse practitio...\n",
       "3  000086e4b7e1c7146103                             Who are entrepreneurs?\n",
       "4  0000c4c3fbe8785a3090   Is education really making good people nowadays?"
      ]
     },
     "execution_count": 32,
     "metadata": {},
     "output_type": "execute_result"
    }
   ],
   "source": [
    "test_data.head()"
   ]
  },
  {
   "cell_type": "code",
   "execution_count": 33,
   "metadata": {
    "execution": {
     "iopub.execute_input": "2020-12-01T17:22:24.842593Z",
     "iopub.status.busy": "2020-12-01T17:22:24.841706Z",
     "iopub.status.idle": "2020-12-01T17:22:27.779766Z",
     "shell.execute_reply": "2020-12-01T17:22:27.780377Z"
    },
    "papermill": {
     "duration": 3.024144,
     "end_time": "2020-12-01T17:22:27.780524",
     "exception": false,
     "start_time": "2020-12-01T17:22:24.756380",
     "status": "completed"
    },
    "tags": []
   },
   "outputs": [
    {
     "name": "stdout",
     "output_type": "stream",
     "text": [
      "minimum sentence length 1 - average sentence length 13.0 - maximum sentence length 87\n"
     ]
    },
    {
     "data": {
      "image/png": "[encoded data removed]",
      "text/plain": [
       "<Figure size 432x288 with 1 Axes>"
      ]
     },
     "metadata": {
      "needs_background": "light"
     },
     "output_type": "display_data"
    }
   ],
   "source": [
    "min, avrg, max = configure_sentence_statistic(sentences)\n",
    "\n",
    "print('minimum sentence length {} - average sentence length {} - maximum sentence length {}'.format(min, avrg, max))"
   ]
  },
  {
   "cell_type": "code",
   "execution_count": 34,
   "metadata": {
    "execution": {
     "iopub.execute_input": "2020-12-01T17:22:27.965077Z",
     "iopub.status.busy": "2020-12-01T17:22:27.964109Z",
     "iopub.status.idle": "2020-12-01T17:22:27.968552Z",
     "shell.execute_reply": "2020-12-01T17:22:27.968052Z"
    },
    "papermill": {
     "duration": 0.089588,
     "end_time": "2020-12-01T17:22:27.968648",
     "exception": false,
     "start_time": "2020-12-01T17:22:27.879060",
     "status": "completed"
    },
    "tags": []
   },
   "outputs": [
    {
     "data": {
      "text/plain": [
       "(375806, 0, 1468)"
      ]
     },
     "execution_count": 34,
     "metadata": {},
     "output_type": "execute_result"
    }
   ],
   "source": [
    "len(sentences), len(targets), TEST_BATCHES"
   ]
  },
  {
   "cell_type": "markdown",
   "metadata": {
    "papermill": {
     "duration": 0.080705,
     "end_time": "2020-12-01T17:22:28.130861",
     "exception": false,
     "start_time": "2020-12-01T17:22:28.050156",
     "status": "completed"
    },
    "tags": []
   },
   "source": [
    "**PREDICT TEST DATA ACCORDING TO OUR MODEL**"
   ]
  },
  {
   "cell_type": "code",
   "execution_count": 35,
   "metadata": {
    "execution": {
     "iopub.execute_input": "2020-12-01T17:22:28.328471Z",
     "iopub.status.busy": "2020-12-01T17:22:28.327580Z",
     "iopub.status.idle": "2020-12-01T17:35:18.240143Z",
     "shell.execute_reply": "2020-12-01T17:35:18.238701Z"
    },
    "papermill": {
     "duration": 770.005422,
     "end_time": "2020-12-01T17:35:18.240274",
     "exception": false,
     "start_time": "2020-12-01T17:22:28.234852",
     "status": "completed"
    },
    "tags": []
   },
   "outputs": [
    {
     "name": "stdout",
     "output_type": "stream",
     "text": [
      "Batch 0001 predicted\n",
      "Batch 0100 predicted\n",
      "Batch 0200 predicted\n",
      "Batch 0300 predicted\n",
      "Batch 0400 predicted\n",
      "Batch 0500 predicted\n",
      "Batch 0600 predicted\n",
      "Batch 0700 predicted\n",
      "Batch 0800 predicted\n",
      "Batch 0900 predicted\n",
      "Batch 1000 predicted\n",
      "Batch 1100 predicted\n",
      "Batch 1200 predicted\n",
      "Batch 1300 predicted\n",
      "Batch 1400 predicted\n"
     ]
    }
   ],
   "source": [
    "model.eval()\n",
    "with torch.no_grad():\n",
    "    for b in range(TEST_BATCHES):\n",
    "        # get current batch\n",
    "        X_batch = torch.FloatTensor(configure_word2vecs(sentences[BATCH_SIZE*b:BATCH_SIZE*(b+1)], word2vecs)).to(gpu)\n",
    "        \n",
    "        # predict batch according to our trained model\n",
    "        trg = torch.round(torch.sigmoid(model(X_batch))).cpu().numpy().squeeze()\n",
    "        targets.extend(trg)\n",
    "        \n",
    "        if b == 0 or (b+1) % 100 == 0: print(f'Batch {(b+1)+0:04} predicted')"
   ]
  },
  {
   "cell_type": "code",
   "execution_count": 36,
   "metadata": {
    "execution": {
     "iopub.execute_input": "2020-12-01T17:35:18.476863Z",
     "iopub.status.busy": "2020-12-01T17:35:18.475677Z",
     "iopub.status.idle": "2020-12-01T17:35:19.591324Z",
     "shell.execute_reply": "2020-12-01T17:35:19.590530Z"
    },
    "papermill": {
     "duration": 1.264417,
     "end_time": "2020-12-01T17:35:19.591455",
     "exception": false,
     "start_time": "2020-12-01T17:35:18.327038",
     "status": "completed"
    },
    "tags": []
   },
   "outputs": [],
   "source": [
    "# save data to submit\n",
    "test_targets = (np.array(targets) >= 0.5).astype(np.int)\n",
    "\n",
    "submit = pd.DataFrame({\"qid\": test_data['qid'], \"prediction\": test_targets})\n",
    "submit.to_csv(\"submission.csv\", index=False)"
   ]
  },
  {
   "cell_type": "code",
   "execution_count": 37,
   "metadata": {
    "execution": {
     "iopub.execute_input": "2020-12-01T17:35:19.791062Z",
     "iopub.status.busy": "2020-12-01T17:35:19.790349Z",
     "iopub.status.idle": "2020-12-01T17:35:19.793925Z",
     "shell.execute_reply": "2020-12-01T17:35:19.794384Z"
    },
    "papermill": {
     "duration": 0.101379,
     "end_time": "2020-12-01T17:35:19.794499",
     "exception": false,
     "start_time": "2020-12-01T17:35:19.693120",
     "status": "completed"
    },
    "tags": []
   },
   "outputs": [
    {
     "data": {
      "text/html": [
       "<div>\n",
       "<style scoped>\n",
       "    .dataframe tbody tr th:only-of-type {\n",
       "        vertical-align: middle;\n",
       "    }\n",
       "\n",
       "    .dataframe tbody tr th {\n",
       "        vertical-align: top;\n",
       "    }\n",
       "\n",
       "    .dataframe thead th {\n",
       "        text-align: right;\n",
       "    }\n",
       "</style>\n",
       "<table border=\"1\" class=\"dataframe\">\n",
       "  <thead>\n",
       "    <tr style=\"text-align: right;\">\n",
       "      <th></th>\n",
       "      <th>qid</th>\n",
       "      <th>prediction</th>\n",
       "    </tr>\n",
       "  </thead>\n",
       "  <tbody>\n",
       "    <tr>\n",
       "      <th>0</th>\n",
       "      <td>0000163e3ea7c7a74cd7</td>\n",
       "      <td>1</td>\n",
       "    </tr>\n",
       "    <tr>\n",
       "      <th>1</th>\n",
       "      <td>00002bd4fb5d505b9161</td>\n",
       "      <td>0</td>\n",
       "    </tr>\n",
       "    <tr>\n",
       "      <th>2</th>\n",
       "      <td>00007756b4a147d2b0b3</td>\n",
       "      <td>0</td>\n",
       "    </tr>\n",
       "    <tr>\n",
       "      <th>3</th>\n",
       "      <td>000086e4b7e1c7146103</td>\n",
       "      <td>0</td>\n",
       "    </tr>\n",
       "    <tr>\n",
       "      <th>4</th>\n",
       "      <td>0000c4c3fbe8785a3090</td>\n",
       "      <td>0</td>\n",
       "    </tr>\n",
       "  </tbody>\n",
       "</table>\n",
       "</div>"
      ],
      "text/plain": [
       "                    qid  prediction\n",
       "0  0000163e3ea7c7a74cd7           1\n",
       "1  00002bd4fb5d505b9161           0\n",
       "2  00007756b4a147d2b0b3           0\n",
       "3  000086e4b7e1c7146103           0\n",
       "4  0000c4c3fbe8785a3090           0"
      ]
     },
     "execution_count": 37,
     "metadata": {},
     "output_type": "execute_result"
    }
   ],
   "source": [
    "# display results\n",
    "submit.head()"
   ]
  },
  {
   "cell_type": "markdown",
   "metadata": {
    "papermill": {
     "duration": 0.08711,
     "end_time": "2020-12-01T17:35:19.968370",
     "exception": false,
     "start_time": "2020-12-01T17:35:19.881260",
     "status": "completed"
    },
    "tags": []
   },
   "source": [
    "As it seems % of our prediction is almost like train data. that seems good ^^ "
   ]
  },
  {
   "cell_type": "markdown",
   "metadata": {
    "papermill": {
     "duration": 0.086509,
     "end_time": "2020-12-01T17:35:20.142194",
     "exception": false,
     "start_time": "2020-12-01T17:35:20.055685",
     "status": "completed"
    },
    "tags": []
   },
   "source": [
    "lets see some examples of our prediction"
   ]
  },
  {
   "cell_type": "code",
   "execution_count": 38,
   "metadata": {
    "execution": {
     "iopub.execute_input": "2020-12-01T17:35:20.323396Z",
     "iopub.status.busy": "2020-12-01T17:35:20.322530Z",
     "iopub.status.idle": "2020-12-01T17:35:20.368949Z",
     "shell.execute_reply": "2020-12-01T17:35:20.368435Z"
    },
    "papermill": {
     "duration": 0.138899,
     "end_time": "2020-12-01T17:35:20.369049",
     "exception": false,
     "start_time": "2020-12-01T17:35:20.230150",
     "status": "completed"
    },
    "tags": []
   },
   "outputs": [
    {
     "data": {
      "application/vnd.plotly.v1+json": {
       "config": {
        "linkText": "Export to plot.ly",
        "plotlyServerURL": "https://plot.ly",
        "showLink": false
       },
       "data": [
        {
         "labels": [
          0,
          1
         ],
         "type": "pie",
         "values": [
          95.89974614561768,
          4.100253854382315
         ]
        }
       ],
       "layout": {
        "font": {
         "size": 15
        },
        "height": 500,
        "template": {
         "data": {
          "bar": [
           {
            "error_x": {
             "color": "#2a3f5f"
            },
            "error_y": {
             "color": "#2a3f5f"
            },
            "marker": {
             "line": {
              "color": "#E5ECF6",
              "width": 0.5
             }
            },
            "type": "bar"
           }
          ],
          "barpolar": [
           {
            "marker": {
             "line": {
              "color": "#E5ECF6",
              "width": 0.5
             }
            },
            "type": "barpolar"
           }
          ],
          "carpet": [
           {
            "aaxis": {
             "endlinecolor": "#2a3f5f",
             "gridcolor": "white",
             "linecolor": "white",
             "minorgridcolor": "white",
             "startlinecolor": "#2a3f5f"
            },
            "baxis": {
             "endlinecolor": "#2a3f5f",
             "gridcolor": "white",
             "linecolor": "white",
             "minorgridcolor": "white",
             "startlinecolor": "#2a3f5f"
            },
            "type": "carpet"
           }
          ],
          "choropleth": [
           {
            "colorbar": {
             "outlinewidth": 0,
             "ticks": ""
            },
            "type": "choropleth"
           }
          ],
          "contour": [
           {
            "colorbar": {
             "outlinewidth": 0,
             "ticks": ""
            },
            "colorscale": [
             [
              0.0,
              "#0d0887"
             ],
             [
              0.1111111111111111,
              "#46039f"
             ],
             [
              0.2222222222222222,
              "#7201a8"
             ],
             [
              0.3333333333333333,
              "#9c179e"
             ],
             [
              0.4444444444444444,
              "#bd3786"
             ],
             [
              0.5555555555555556,
              "#d8576b"
             ],
             [
              0.6666666666666666,
              "#ed7953"
             ],
             [
              0.7777777777777778,
              "#fb9f3a"
             ],
             [
              0.8888888888888888,
              "#fdca26"
             ],
             [
              1.0,
              "#f0f921"
             ]
            ],
            "type": "contour"
           }
          ],
          "contourcarpet": [
           {
            "colorbar": {
             "outlinewidth": 0,
             "ticks": ""
            },
            "type": "contourcarpet"
           }
          ],
          "heatmap": [
           {
            "colorbar": {
             "outlinewidth": 0,
             "ticks": ""
            },
            "colorscale": [
             [
              0.0,
              "#0d0887"
             ],
             [
              0.1111111111111111,
              "#46039f"
             ],
             [
              0.2222222222222222,
              "#7201a8"
             ],
             [
              0.3333333333333333,
              "#9c179e"
             ],
             [
              0.4444444444444444,
              "#bd3786"
             ],
             [
              0.5555555555555556,
              "#d8576b"
             ],
             [
              0.6666666666666666,
              "#ed7953"
             ],
             [
              0.7777777777777778,
              "#fb9f3a"
             ],
             [
              0.8888888888888888,
              "#fdca26"
             ],
             [
              1.0,
              "#f0f921"
             ]
            ],
            "type": "heatmap"
           }
          ],
          "heatmapgl": [
           {
            "colorbar": {
             "outlinewidth": 0,
             "ticks": ""
            },
            "colorscale": [
             [
              0.0,
              "#0d0887"
             ],
             [
              0.1111111111111111,
              "#46039f"
             ],
             [
              0.2222222222222222,
              "#7201a8"
             ],
             [
              0.3333333333333333,
              "#9c179e"
             ],
             [
              0.4444444444444444,
              "#bd3786"
             ],
             [
              0.5555555555555556,
              "#d8576b"
             ],
             [
              0.6666666666666666,
              "#ed7953"
             ],
             [
              0.7777777777777778,
              "#fb9f3a"
             ],
             [
              0.8888888888888888,
              "#fdca26"
             ],
             [
              1.0,
              "#f0f921"
             ]
            ],
            "type": "heatmapgl"
           }
          ],
          "histogram": [
           {
            "marker": {
             "colorbar": {
              "outlinewidth": 0,
              "ticks": ""
             }
            },
            "type": "histogram"
           }
          ],
          "histogram2d": [
           {
            "colorbar": {
             "outlinewidth": 0,
             "ticks": ""
            },
            "colorscale": [
             [
              0.0,
              "#0d0887"
             ],
             [
              0.1111111111111111,
              "#46039f"
             ],
             [
              0.2222222222222222,
              "#7201a8"
             ],
             [
              0.3333333333333333,
              "#9c179e"
             ],
             [
              0.4444444444444444,
              "#bd3786"
             ],
             [
              0.5555555555555556,
              "#d8576b"
             ],
             [
              0.6666666666666666,
              "#ed7953"
             ],
             [
              0.7777777777777778,
              "#fb9f3a"
             ],
             [
              0.8888888888888888,
              "#fdca26"
             ],
             [
              1.0,
              "#f0f921"
             ]
            ],
            "type": "histogram2d"
           }
          ],
          "histogram2dcontour": [
           {
            "colorbar": {
             "outlinewidth": 0,
             "ticks": ""
            },
            "colorscale": [
             [
              0.0,
              "#0d0887"
             ],
             [
              0.1111111111111111,
              "#46039f"
             ],
             [
              0.2222222222222222,
              "#7201a8"
             ],
             [
              0.3333333333333333,
              "#9c179e"
             ],
             [
              0.4444444444444444,
              "#bd3786"
             ],
             [
              0.5555555555555556,
              "#d8576b"
             ],
             [
              0.6666666666666666,
              "#ed7953"
             ],
             [
              0.7777777777777778,
              "#fb9f3a"
             ],
             [
              0.8888888888888888,
              "#fdca26"
             ],
             [
              1.0,
              "#f0f921"
             ]
            ],
            "type": "histogram2dcontour"
           }
          ],
          "mesh3d": [
           {
            "colorbar": {
             "outlinewidth": 0,
             "ticks": ""
            },
            "type": "mesh3d"
           }
          ],
          "parcoords": [
           {
            "line": {
             "colorbar": {
              "outlinewidth": 0,
              "ticks": ""
             }
            },
            "type": "parcoords"
           }
          ],
          "pie": [
           {
            "automargin": true,
            "type": "pie"
           }
          ],
          "scatter": [
           {
            "marker": {
             "colorbar": {
              "outlinewidth": 0,
              "ticks": ""
             }
            },
            "type": "scatter"
           }
          ],
          "scatter3d": [
           {
            "line": {
             "colorbar": {
              "outlinewidth": 0,
              "ticks": ""
             }
            },
            "marker": {
             "colorbar": {
              "outlinewidth": 0,
              "ticks": ""
             }
            },
            "type": "scatter3d"
           }
          ],
          "scattercarpet": [
           {
            "marker": {
             "colorbar": {
              "outlinewidth": 0,
              "ticks": ""
             }
            },
            "type": "scattercarpet"
           }
          ],
          "scattergeo": [
           {
            "marker": {
             "colorbar": {
              "outlinewidth": 0,
              "ticks": ""
             }
            },
            "type": "scattergeo"
           }
          ],
          "scattergl": [
           {
            "marker": {
             "colorbar": {
              "outlinewidth": 0,
              "ticks": ""
             }
            },
            "type": "scattergl"
           }
          ],
          "scattermapbox": [
           {
            "marker": {
             "colorbar": {
              "outlinewidth": 0,
              "ticks": ""
             }
            },
            "type": "scattermapbox"
           }
          ],
          "scatterpolar": [
           {
            "marker": {
             "colorbar": {
              "outlinewidth": 0,
              "ticks": ""
             }
            },
            "type": "scatterpolar"
           }
          ],
          "scatterpolargl": [
           {
            "marker": {
             "colorbar": {
              "outlinewidth": 0,
              "ticks": ""
             }
            },
            "type": "scatterpolargl"
           }
          ],
          "scatterternary": [
           {
            "marker": {
             "colorbar": {
              "outlinewidth": 0,
              "ticks": ""
             }
            },
            "type": "scatterternary"
           }
          ],
          "surface": [
           {
            "colorbar": {
             "outlinewidth": 0,
             "ticks": ""
            },
            "colorscale": [
             [
              0.0,
              "#0d0887"
             ],
             [
              0.1111111111111111,
              "#46039f"
             ],
             [
              0.2222222222222222,
              "#7201a8"
             ],
             [
              0.3333333333333333,
              "#9c179e"
             ],
             [
              0.4444444444444444,
              "#bd3786"
             ],
             [
              0.5555555555555556,
              "#d8576b"
             ],
             [
              0.6666666666666666,
              "#ed7953"
             ],
             [
              0.7777777777777778,
              "#fb9f3a"
             ],
             [
              0.8888888888888888,
              "#fdca26"
             ],
             [
              1.0,
              "#f0f921"
             ]
            ],
            "type": "surface"
           }
          ],
          "table": [
           {
            "cells": {
             "fill": {
              "color": "#EBF0F8"
             },
             "line": {
              "color": "white"
             }
            },
            "header": {
             "fill": {
              "color": "#C8D4E3"
             },
             "line": {
              "color": "white"
             }
            },
            "type": "table"
           }
          ]
         },
         "layout": {
          "annotationdefaults": {
           "arrowcolor": "#2a3f5f",
           "arrowhead": 0,
           "arrowwidth": 1
          },
          "coloraxis": {
           "colorbar": {
            "outlinewidth": 0,
            "ticks": ""
           }
          },
          "colorscale": {
           "diverging": [
            [
             0,
             "#8e0152"
            ],
            [
             0.1,
             "#c51b7d"
            ],
            [
             0.2,
             "#de77ae"
            ],
            [
             0.3,
             "#f1b6da"
            ],
            [
             0.4,
             "#fde0ef"
            ],
            [
             0.5,
             "#f7f7f7"
            ],
            [
             0.6,
             "#e6f5d0"
            ],
            [
             0.7,
             "#b8e186"
            ],
            [
             0.8,
             "#7fbc41"
            ],
            [
             0.9,
             "#4d9221"
            ],
            [
             1,
             "#276419"
            ]
           ],
           "sequential": [
            [
             0.0,
             "#0d0887"
            ],
            [
             0.1111111111111111,
             "#46039f"
            ],
            [
             0.2222222222222222,
             "#7201a8"
            ],
            [
             0.3333333333333333,
             "#9c179e"
            ],
            [
             0.4444444444444444,
             "#bd3786"
            ],
            [
             0.5555555555555556,
             "#d8576b"
            ],
            [
             0.6666666666666666,
             "#ed7953"
            ],
            [
             0.7777777777777778,
             "#fb9f3a"
            ],
            [
             0.8888888888888888,
             "#fdca26"
            ],
            [
             1.0,
             "#f0f921"
            ]
           ],
           "sequentialminus": [
            [
             0.0,
             "#0d0887"
            ],
            [
             0.1111111111111111,
             "#46039f"
            ],
            [
             0.2222222222222222,
             "#7201a8"
            ],
            [
             0.3333333333333333,
             "#9c179e"
            ],
            [
             0.4444444444444444,
             "#bd3786"
            ],
            [
             0.5555555555555556,
             "#d8576b"
            ],
            [
             0.6666666666666666,
             "#ed7953"
            ],
            [
             0.7777777777777778,
             "#fb9f3a"
            ],
            [
             0.8888888888888888,
             "#fdca26"
            ],
            [
             1.0,
             "#f0f921"
            ]
           ]
          },
          "colorway": [
           "#636efa",
           "#EF553B",
           "#00cc96",
           "#ab63fa",
           "#FFA15A",
           "#19d3f3",
           "#FF6692",
           "#B6E880",
           "#FF97FF",
           "#FECB52"
          ],
          "font": {
           "color": "#2a3f5f"
          },
          "geo": {
           "bgcolor": "white",
           "lakecolor": "white",
           "landcolor": "#E5ECF6",
           "showlakes": true,
           "showland": true,
           "subunitcolor": "white"
          },
          "hoverlabel": {
           "align": "left"
          },
          "hovermode": "closest",
          "mapbox": {
           "style": "light"
          },
          "paper_bgcolor": "white",
          "plot_bgcolor": "#E5ECF6",
          "polar": {
           "angularaxis": {
            "gridcolor": "white",
            "linecolor": "white",
            "ticks": ""
           },
           "bgcolor": "#E5ECF6",
           "radialaxis": {
            "gridcolor": "white",
            "linecolor": "white",
            "ticks": ""
           }
          },
          "scene": {
           "xaxis": {
            "backgroundcolor": "#E5ECF6",
            "gridcolor": "white",
            "gridwidth": 2,
            "linecolor": "white",
            "showbackground": true,
            "ticks": "",
            "zerolinecolor": "white"
           },
           "yaxis": {
            "backgroundcolor": "#E5ECF6",
            "gridcolor": "white",
            "gridwidth": 2,
            "linecolor": "white",
            "showbackground": true,
            "ticks": "",
            "zerolinecolor": "white"
           },
           "zaxis": {
            "backgroundcolor": "#E5ECF6",
            "gridcolor": "white",
            "gridwidth": 2,
            "linecolor": "white",
            "showbackground": true,
            "ticks": "",
            "zerolinecolor": "white"
           }
          },
          "shapedefaults": {
           "line": {
            "color": "#2a3f5f"
           }
          },
          "ternary": {
           "aaxis": {
            "gridcolor": "white",
            "linecolor": "white",
            "ticks": ""
           },
           "baxis": {
            "gridcolor": "white",
            "linecolor": "white",
            "ticks": ""
           },
           "bgcolor": "#E5ECF6",
           "caxis": {
            "gridcolor": "white",
            "linecolor": "white",
            "ticks": ""
           }
          },
          "title": {
           "x": 0.05
          },
          "xaxis": {
           "automargin": true,
           "gridcolor": "white",
           "linecolor": "white",
           "ticks": "",
           "title": {
            "standoff": 15
           },
           "zerolinecolor": "white",
           "zerolinewidth": 2
          },
          "yaxis": {
           "automargin": true,
           "gridcolor": "white",
           "linecolor": "white",
           "ticks": "",
           "title": {
            "standoff": 15
           },
           "zerolinecolor": "white",
           "zerolinewidth": 2
          }
         }
        },
        "title": {
         "text": "Target Distribution"
        },
        "width": 500
       }
      },
      "text/html": [
       "<div>                            <div id=\"39840ca2-2f3f-4209-b0e9-ee4fb93c263a\" class=\"plotly-graph-div\" style=\"height:500px; width:500px;\"></div>            <script type=\"text/javascript\">                require([\"plotly\"], function(Plotly) {                    window.PLOTLYENV=window.PLOTLYENV || {};                                    if (document.getElementById(\"39840ca2-2f3f-4209-b0e9-ee4fb93c263a\")) {                    Plotly.newPlot(                        \"39840ca2-2f3f-4209-b0e9-ee4fb93c263a\",                        [{\"labels\": [0, 1], \"type\": \"pie\", \"values\": [95.89974614561768, 4.100253854382315]}],                        {\"font\": {\"size\": 15}, \"height\": 500, \"template\": {\"data\": {\"bar\": [{\"error_x\": {\"color\": \"#2a3f5f\"}, \"error_y\": {\"color\": \"#2a3f5f\"}, \"marker\": {\"line\": {\"color\": \"#E5ECF6\", \"width\": 0.5}}, \"type\": \"bar\"}], \"barpolar\": [{\"marker\": {\"line\": {\"color\": \"#E5ECF6\", \"width\": 0.5}}, \"type\": \"barpolar\"}], \"carpet\": [{\"aaxis\": {\"endlinecolor\": \"#2a3f5f\", \"gridcolor\": \"white\", \"linecolor\": \"white\", \"minorgridcolor\": \"white\", \"startlinecolor\": \"#2a3f5f\"}, \"baxis\": {\"endlinecolor\": \"#2a3f5f\", \"gridcolor\": \"white\", \"linecolor\": \"white\", \"minorgridcolor\": \"white\", \"startlinecolor\": \"#2a3f5f\"}, \"type\": \"carpet\"}], \"choropleth\": [{\"colorbar\": {\"outlinewidth\": 0, \"ticks\": \"\"}, \"type\": \"choropleth\"}], \"contour\": [{\"colorbar\": {\"outlinewidth\": 0, \"ticks\": \"\"}, \"colorscale\": [[0.0, \"#0d0887\"], [0.1111111111111111, \"#46039f\"], [0.2222222222222222, \"#7201a8\"], [0.3333333333333333, \"#9c179e\"], [0.4444444444444444, \"#bd3786\"], [0.5555555555555556, \"#d8576b\"], [0.6666666666666666, \"#ed7953\"], [0.7777777777777778, \"#fb9f3a\"], [0.8888888888888888, \"#fdca26\"], [1.0, \"#f0f921\"]], \"type\": \"contour\"}], \"contourcarpet\": [{\"colorbar\": {\"outlinewidth\": 0, \"ticks\": \"\"}, \"type\": \"contourcarpet\"}], \"heatmap\": [{\"colorbar\": {\"outlinewidth\": 0, \"ticks\": \"\"}, \"colorscale\": [[0.0, \"#0d0887\"], [0.1111111111111111, \"#46039f\"], [0.2222222222222222, \"#7201a8\"], [0.3333333333333333, \"#9c179e\"], [0.4444444444444444, \"#bd3786\"], [0.5555555555555556, \"#d8576b\"], [0.6666666666666666, \"#ed7953\"], [0.7777777777777778, \"#fb9f3a\"], [0.8888888888888888, \"#fdca26\"], [1.0, \"#f0f921\"]], \"type\": \"heatmap\"}], \"heatmapgl\": [{\"colorbar\": {\"outlinewidth\": 0, \"ticks\": \"\"}, \"colorscale\": [[0.0, \"#0d0887\"], [0.1111111111111111, \"#46039f\"], [0.2222222222222222, \"#7201a8\"], [0.3333333333333333, \"#9c179e\"], [0.4444444444444444, \"#bd3786\"], [0.5555555555555556, \"#d8576b\"], [0.6666666666666666, \"#ed7953\"], [0.7777777777777778, \"#fb9f3a\"], [0.8888888888888888, \"#fdca26\"], [1.0, \"#f0f921\"]], \"type\": \"heatmapgl\"}], \"histogram\": [{\"marker\": {\"colorbar\": {\"outlinewidth\": 0, \"ticks\": \"\"}}, \"type\": \"histogram\"}], \"histogram2d\": [{\"colorbar\": {\"outlinewidth\": 0, \"ticks\": \"\"}, \"colorscale\": [[0.0, \"#0d0887\"], [0.1111111111111111, \"#46039f\"], [0.2222222222222222, \"#7201a8\"], [0.3333333333333333, \"#9c179e\"], [0.4444444444444444, \"#bd3786\"], [0.5555555555555556, \"#d8576b\"], [0.6666666666666666, \"#ed7953\"], [0.7777777777777778, \"#fb9f3a\"], [0.8888888888888888, \"#fdca26\"], [1.0, \"#f0f921\"]], \"type\": \"histogram2d\"}], \"histogram2dcontour\": [{\"colorbar\": {\"outlinewidth\": 0, \"ticks\": \"\"}, \"colorscale\": [[0.0, \"#0d0887\"], [0.1111111111111111, \"#46039f\"], [0.2222222222222222, \"#7201a8\"], [0.3333333333333333, \"#9c179e\"], [0.4444444444444444, \"#bd3786\"], [0.5555555555555556, \"#d8576b\"], [0.6666666666666666, \"#ed7953\"], [0.7777777777777778, \"#fb9f3a\"], [0.8888888888888888, \"#fdca26\"], [1.0, \"#f0f921\"]], \"type\": \"histogram2dcontour\"}], \"mesh3d\": [{\"colorbar\": {\"outlinewidth\": 0, \"ticks\": \"\"}, \"type\": \"mesh3d\"}], \"parcoords\": [{\"line\": {\"colorbar\": {\"outlinewidth\": 0, \"ticks\": \"\"}}, \"type\": \"parcoords\"}], \"pie\": [{\"automargin\": true, \"type\": \"pie\"}], \"scatter\": [{\"marker\": {\"colorbar\": {\"outlinewidth\": 0, \"ticks\": \"\"}}, \"type\": \"scatter\"}], \"scatter3d\": [{\"line\": {\"colorbar\": {\"outlinewidth\": 0, \"ticks\": \"\"}}, \"marker\": {\"colorbar\": {\"outlinewidth\": 0, \"ticks\": \"\"}}, \"type\": \"scatter3d\"}], \"scattercarpet\": [{\"marker\": {\"colorbar\": {\"outlinewidth\": 0, \"ticks\": \"\"}}, \"type\": \"scattercarpet\"}], \"scattergeo\": [{\"marker\": {\"colorbar\": {\"outlinewidth\": 0, \"ticks\": \"\"}}, \"type\": \"scattergeo\"}], \"scattergl\": [{\"marker\": {\"colorbar\": {\"outlinewidth\": 0, \"ticks\": \"\"}}, \"type\": \"scattergl\"}], \"scattermapbox\": [{\"marker\": {\"colorbar\": {\"outlinewidth\": 0, \"ticks\": \"\"}}, \"type\": \"scattermapbox\"}], \"scatterpolar\": [{\"marker\": {\"colorbar\": {\"outlinewidth\": 0, \"ticks\": \"\"}}, \"type\": \"scatterpolar\"}], \"scatterpolargl\": [{\"marker\": {\"colorbar\": {\"outlinewidth\": 0, \"ticks\": \"\"}}, \"type\": \"scatterpolargl\"}], \"scatterternary\": [{\"marker\": {\"colorbar\": {\"outlinewidth\": 0, \"ticks\": \"\"}}, \"type\": \"scatterternary\"}], \"surface\": [{\"colorbar\": {\"outlinewidth\": 0, \"ticks\": \"\"}, \"colorscale\": [[0.0, \"#0d0887\"], [0.1111111111111111, \"#46039f\"], [0.2222222222222222, \"#7201a8\"], [0.3333333333333333, \"#9c179e\"], [0.4444444444444444, \"#bd3786\"], [0.5555555555555556, \"#d8576b\"], [0.6666666666666666, \"#ed7953\"], [0.7777777777777778, \"#fb9f3a\"], [0.8888888888888888, \"#fdca26\"], [1.0, \"#f0f921\"]], \"type\": \"surface\"}], \"table\": [{\"cells\": {\"fill\": {\"color\": \"#EBF0F8\"}, \"line\": {\"color\": \"white\"}}, \"header\": {\"fill\": {\"color\": \"#C8D4E3\"}, \"line\": {\"color\": \"white\"}}, \"type\": \"table\"}]}, \"layout\": {\"annotationdefaults\": {\"arrowcolor\": \"#2a3f5f\", \"arrowhead\": 0, \"arrowwidth\": 1}, \"coloraxis\": {\"colorbar\": {\"outlinewidth\": 0, \"ticks\": \"\"}}, \"colorscale\": {\"diverging\": [[0, \"#8e0152\"], [0.1, \"#c51b7d\"], [0.2, \"#de77ae\"], [0.3, \"#f1b6da\"], [0.4, \"#fde0ef\"], [0.5, \"#f7f7f7\"], [0.6, \"#e6f5d0\"], [0.7, \"#b8e186\"], [0.8, \"#7fbc41\"], [0.9, \"#4d9221\"], [1, \"#276419\"]], \"sequential\": [[0.0, \"#0d0887\"], [0.1111111111111111, \"#46039f\"], [0.2222222222222222, \"#7201a8\"], [0.3333333333333333, \"#9c179e\"], [0.4444444444444444, \"#bd3786\"], [0.5555555555555556, \"#d8576b\"], [0.6666666666666666, \"#ed7953\"], [0.7777777777777778, \"#fb9f3a\"], [0.8888888888888888, \"#fdca26\"], [1.0, \"#f0f921\"]], \"sequentialminus\": [[0.0, \"#0d0887\"], [0.1111111111111111, \"#46039f\"], [0.2222222222222222, \"#7201a8\"], [0.3333333333333333, \"#9c179e\"], [0.4444444444444444, \"#bd3786\"], [0.5555555555555556, \"#d8576b\"], [0.6666666666666666, \"#ed7953\"], [0.7777777777777778, \"#fb9f3a\"], [0.8888888888888888, \"#fdca26\"], [1.0, \"#f0f921\"]]}, \"colorway\": [\"#636efa\", \"#EF553B\", \"#00cc96\", \"#ab63fa\", \"#FFA15A\", \"#19d3f3\", \"#FF6692\", \"#B6E880\", \"#FF97FF\", \"#FECB52\"], \"font\": {\"color\": \"#2a3f5f\"}, \"geo\": {\"bgcolor\": \"white\", \"lakecolor\": \"white\", \"landcolor\": \"#E5ECF6\", \"showlakes\": true, \"showland\": true, \"subunitcolor\": \"white\"}, \"hoverlabel\": {\"align\": \"left\"}, \"hovermode\": \"closest\", \"mapbox\": {\"style\": \"light\"}, \"paper_bgcolor\": \"white\", \"plot_bgcolor\": \"#E5ECF6\", \"polar\": {\"angularaxis\": {\"gridcolor\": \"white\", \"linecolor\": \"white\", \"ticks\": \"\"}, \"bgcolor\": \"#E5ECF6\", \"radialaxis\": {\"gridcolor\": \"white\", \"linecolor\": \"white\", \"ticks\": \"\"}}, \"scene\": {\"xaxis\": {\"backgroundcolor\": \"#E5ECF6\", \"gridcolor\": \"white\", \"gridwidth\": 2, \"linecolor\": \"white\", \"showbackground\": true, \"ticks\": \"\", \"zerolinecolor\": \"white\"}, \"yaxis\": {\"backgroundcolor\": \"#E5ECF6\", \"gridcolor\": \"white\", \"gridwidth\": 2, \"linecolor\": \"white\", \"showbackground\": true, \"ticks\": \"\", \"zerolinecolor\": \"white\"}, \"zaxis\": {\"backgroundcolor\": \"#E5ECF6\", \"gridcolor\": \"white\", \"gridwidth\": 2, \"linecolor\": \"white\", \"showbackground\": true, \"ticks\": \"\", \"zerolinecolor\": \"white\"}}, \"shapedefaults\": {\"line\": {\"color\": \"#2a3f5f\"}}, \"ternary\": {\"aaxis\": {\"gridcolor\": \"white\", \"linecolor\": \"white\", \"ticks\": \"\"}, \"baxis\": {\"gridcolor\": \"white\", \"linecolor\": \"white\", \"ticks\": \"\"}, \"bgcolor\": \"#E5ECF6\", \"caxis\": {\"gridcolor\": \"white\", \"linecolor\": \"white\", \"ticks\": \"\"}}, \"title\": {\"x\": 0.05}, \"xaxis\": {\"automargin\": true, \"gridcolor\": \"white\", \"linecolor\": \"white\", \"ticks\": \"\", \"title\": {\"standoff\": 15}, \"zerolinecolor\": \"white\", \"zerolinewidth\": 2}, \"yaxis\": {\"automargin\": true, \"gridcolor\": \"white\", \"linecolor\": \"white\", \"ticks\": \"\", \"title\": {\"standoff\": 15}, \"zerolinecolor\": \"white\", \"zerolinewidth\": 2}}}, \"title\": {\"text\": \"Target Distribution\"}, \"width\": 500},                        {\"responsive\": true}                    ).then(function(){\n",
       "                            \n",
       "var gd = document.getElementById('39840ca2-2f3f-4209-b0e9-ee4fb93c263a');\n",
       "var x = new MutationObserver(function (mutations, observer) {{\n",
       "        var display = window.getComputedStyle(gd).display;\n",
       "        if (!display || display === 'none') {{\n",
       "            console.log([gd, 'removed!']);\n",
       "            Plotly.purge(gd);\n",
       "            observer.disconnect();\n",
       "        }}\n",
       "}});\n",
       "\n",
       "// Listen for the removal of the full notebook cells\n",
       "var notebookContainer = gd.closest('#notebook-container');\n",
       "if (notebookContainer) {{\n",
       "    x.observe(notebookContainer, {childList: true});\n",
       "}}\n",
       "\n",
       "// Listen for the clearing of the current output cell\n",
       "var outputEl = gd.closest('.output');\n",
       "if (outputEl) {{\n",
       "    x.observe(outputEl, {childList: true});\n",
       "}}\n",
       "\n",
       "                        })                };                });            </script>        </div>"
      ]
     },
     "metadata": {},
     "output_type": "display_data"
    },
    {
     "data": {
      "text/plain": [
       "0    360397\n",
       "1     15409\n",
       "Name: prediction, dtype: int64"
      ]
     },
     "execution_count": 38,
     "metadata": {},
     "output_type": "execute_result"
    }
   ],
   "source": [
    "configure_target_statistic(submit['prediction'])"
   ]
  },
  {
   "cell_type": "code",
   "execution_count": 39,
   "metadata": {
    "execution": {
     "iopub.execute_input": "2020-12-01T17:35:20.670442Z",
     "iopub.status.busy": "2020-12-01T17:35:20.668565Z",
     "iopub.status.idle": "2020-12-01T17:35:20.673655Z",
     "shell.execute_reply": "2020-12-01T17:35:20.672781Z"
    },
    "papermill": {
     "duration": 0.210215,
     "end_time": "2020-12-01T17:35:20.673834",
     "exception": false,
     "start_time": "2020-12-01T17:35:20.463619",
     "status": "completed"
    },
    "tags": []
   },
   "outputs": [
    {
     "name": "stdout",
     "output_type": "stream",
     "text": [
      "3 GOOD sentences with length between 5-30:\n",
      "\n",
      "1) When should I apply for RV college of engineering and BMS college of engineering? Should I wait for the COMEDK result or am I supposed to apply before the result?\n",
      "2) What is it really like to be a nurse practitioner?\n",
      "3) Is education really making good people nowadays?\n"
     ]
    }
   ],
   "source": [
    "filter_and_display_data(sentences, np.asarray(targets, dtype='int'), target=0)"
   ]
  },
  {
   "cell_type": "code",
   "execution_count": 40,
   "metadata": {
    "execution": {
     "iopub.execute_input": "2020-12-01T17:35:20.966410Z",
     "iopub.status.busy": "2020-12-01T17:35:20.965527Z",
     "iopub.status.idle": "2020-12-01T17:35:20.970882Z",
     "shell.execute_reply": "2020-12-01T17:35:20.971335Z"
    },
    "papermill": {
     "duration": 0.201682,
     "end_time": "2020-12-01T17:35:20.971481",
     "exception": false,
     "start_time": "2020-12-01T17:35:20.769799",
     "status": "completed"
    },
    "tags": []
   },
   "outputs": [
    {
     "name": "stdout",
     "output_type": "stream",
     "text": [
      "3 BAD sentences with length between 5-30:\n",
      "\n",
      "1) Why do so many women become so rude and arrogant when they get just a little bit of wealth and power?\n",
      "2) Why do so many people on this damn site not actually answer the question, but give some stupid and probably fake anecdotes instead?\n",
      "3) Why most Telugu and Marathi Muslims speak Urdu and are ashamed of their native languages?\n"
     ]
    }
   ],
   "source": [
    "filter_and_display_data(sentences, np.asarray(targets, dtype='int'), target=1)"
   ]
  },
  {
   "cell_type": "markdown",
   "metadata": {
    "papermill": {
     "duration": 0.095243,
     "end_time": "2020-12-01T17:35:21.163216",
     "exception": false,
     "start_time": "2020-12-01T17:35:21.067973",
     "status": "completed"
    },
    "tags": []
   },
   "source": [
    "in one look - it seems our model is working well."
   ]
  },
  {
   "cell_type": "code",
   "execution_count": 41,
   "metadata": {
    "execution": {
     "iopub.execute_input": "2020-12-01T17:35:21.474543Z",
     "iopub.status.busy": "2020-12-01T17:35:21.469937Z",
     "iopub.status.idle": "2020-12-01T17:35:21.902251Z",
     "shell.execute_reply": "2020-12-01T17:35:21.902878Z"
    },
    "papermill": {
     "duration": 0.644715,
     "end_time": "2020-12-01T17:35:21.903084",
     "exception": false,
     "start_time": "2020-12-01T17:35:21.258369",
     "status": "completed"
    },
    "tags": []
   },
   "outputs": [
    {
     "name": "stdout",
     "output_type": "stream",
     "text": [
      "no such sequencies found.\n"
     ]
    }
   ],
   "source": [
    "filter_and_display_data(sentences, np.asarray(targets, dtype='int'), target=1, min_len=100, max_len=150)"
   ]
  },
  {
   "cell_type": "code",
   "execution_count": 42,
   "metadata": {
    "execution": {
     "iopub.execute_input": "2020-12-01T17:35:22.231967Z",
     "iopub.status.busy": "2020-12-01T17:35:22.216784Z",
     "iopub.status.idle": "2020-12-01T17:35:22.634220Z",
     "shell.execute_reply": "2020-12-01T17:35:22.634745Z"
    },
    "papermill": {
     "duration": 0.634622,
     "end_time": "2020-12-01T17:35:22.634916",
     "exception": false,
     "start_time": "2020-12-01T17:35:22.000294",
     "status": "completed"
    },
    "tags": []
   },
   "outputs": [
    {
     "name": "stdout",
     "output_type": "stream",
     "text": [
      "no such sequencies found.\n"
     ]
    }
   ],
   "source": [
    "filter_and_display_data(sentences, np.asarray(targets, dtype='int'), target=1, min_len=100, max_len=150)"
   ]
  },
  {
   "cell_type": "markdown",
   "metadata": {
    "papermill": {
     "duration": 0.095682,
     "end_time": "2020-12-01T17:35:22.830152",
     "exception": false,
     "start_time": "2020-12-01T17:35:22.734470",
     "status": "completed"
    },
    "tags": []
   },
   "source": [
    "if there are no long sequencies in test set - it's just fine."
   ]
  }
 ],
 "metadata": {
  "kernelspec": {
   "display_name": "Python 3",
   "language": "python",
   "name": "python3"
  },
  "language_info": {
   "codemirror_mode": {
    "name": "ipython",
    "version": 3
   },
   "file_extension": ".py",
   "mimetype": "text/x-python",
   "name": "python",
   "nbconvert_exporter": "python",
   "pygments_lexer": "ipython3",
   "version": "3.7.6"
  },
  "papermill": {
   "duration": 5617.600233,
   "end_time": "2020-12-01T17:35:23.969547",
   "environment_variables": {},
   "exception": null,
   "input_path": "__notebook__.ipynb",
   "output_path": "__notebook__.ipynb",
   "parameters": {},
   "start_time": "2020-12-01T16:01:46.369314",
   "version": "2.1.0"
  }
 },
 "nbformat": 4,
 "nbformat_minor": 4
}
